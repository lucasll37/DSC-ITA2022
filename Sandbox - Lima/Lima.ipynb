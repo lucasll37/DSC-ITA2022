{
 "cells": [
  {
   "cell_type": "markdown",
   "metadata": {},
   "source": [
    "# <font color='blue'>Data Science Challenge @ ITA 2022</font>\n",
    "# <font color='blue'>Equipe DIOMGIS</font>\n",
    "\n",
    "## <font color='blue'>Fase 1</font>\n",
    "\n",
    "### <font color='blue'>TEMA DO DESAFIO</font>"
   ]
  },
  {
   "cell_type": "markdown",
   "metadata": {},
   "source": [
    "![title](..\\data\\image\\logo.jpeg)"
   ]
  },
  {
   "cell_type": "code",
   "execution_count": 1,
   "metadata": {},
   "outputs": [
    {
     "name": "stdout",
     "output_type": "stream",
     "text": [
      "Versão da Linguagem Python Usada Neste Jupyter Notebook: 3.9.12\n"
     ]
    }
   ],
   "source": [
    "# Versão da Linguagem Python\n",
    "from platform import python_version\n",
    "print('Versão da Linguagem Python Usada Neste Jupyter Notebook:', python_version())"
   ]
  },
  {
   "cell_type": "code",
   "execution_count": 2,
   "metadata": {},
   "outputs": [],
   "source": [
    "# Para atualizar um pacote, execute o comando abaixo no terminal ou prompt de comando:\n",
    "# pip install -U nome_pacote\n",
    "\n",
    "# Para instalar a versão exata de um pacote, execute o comando abaixo no terminal ou prompt de comando:\n",
    "#!pip install nome_pacote==versão_desejada\n",
    "\n",
    "# Depois de instalar ou atualizar o pacote, reinicie o jupyter notebook.\n",
    "\n",
    "# Instala o pacote watermark. \n",
    "# Esse pacote é usado para gravar as versões de outros pacotes usados neste jupyter notebook.\n",
    "#!pip install -q -U watermark\n",
    "\n",
    "# Instala o pacote tensorboard-plugin-profile. \n",
    "# Esse pacote é usado para incrementar funcioalidades no Tensorboard.\n",
    "#!pip install -U tensorboard-plugin-profile"
   ]
  },
  {
   "cell_type": "code",
   "execution_count": 3,
   "metadata": {},
   "outputs": [],
   "source": [
    "# Imports\n",
    "import numpy as np\n",
    "import pandas as pd\n",
    "import tensorflow as tf\n",
    "from tensorflow import keras\n",
    "from keras.layers import *\n",
    "from keras.models import *\n",
    "from keras.optimizers import *\n",
    "from keras.wrappers.scikit_learn import KerasClassifier\n",
    "from keras.wrappers.scikit_learn import KerasRegressor\n",
    "from keras.callbacks import ModelCheckpoint, EarlyStopping, ReduceLROnPlateau \n",
    "from keras.callbacks import TensorBoard\n",
    "from sklearn.pipeline import Pipeline\n",
    "from sklearn.model_selection import GridSearchCV\n",
    "import matplotlib.pyplot as plt\n",
    "import seaborn as sns\n",
    "import warnings\n",
    "from time import time\n",
    "import os"
   ]
  },
  {
   "cell_type": "code",
   "execution_count": 4,
   "metadata": {},
   "outputs": [],
   "source": [
    "sns.set_style('whitegrid')\n",
    "os.environ['TF_CPP_MIN_LOG_LEVEL'] = '3'\n",
    "%load_ext tensorboard\n",
    "%matplotlib inline\n",
    "warnings.filterwarnings(\"ignore\", category=FutureWarning)\n",
    "warnings.filterwarnings(\"ignore\", category=DeprecationWarning)"
   ]
  },
  {
   "cell_type": "code",
   "execution_count": 5,
   "metadata": {},
   "outputs": [],
   "source": [
    "seed = 25\n",
    "np.random.seed(seed)"
   ]
  },
  {
   "cell_type": "code",
   "execution_count": 6,
   "metadata": {},
   "outputs": [
    {
     "name": "stdout",
     "output_type": "stream",
     "text": [
      "Author: Equipe DIOMGIS\n",
      "\n",
      "keras     : 2.10.0\n",
      "tensorflow: 2.10.0\n",
      "pandas    : 1.4.2\n",
      "matplotlib: 3.5.1\n",
      "numpy     : 1.22.3\n",
      "seaborn   : 0.11.2\n",
      "\n"
     ]
    }
   ],
   "source": [
    "# Versões dos pacotes usados neste jupyter notebook\n",
    "%reload_ext watermark\n",
    "%watermark -a \"Equipe DIOMGIS\" --iversions"
   ]
  },
  {
   "cell_type": "code",
   "execution_count": 7,
   "metadata": {},
   "outputs": [
    {
     "name": "stdout",
     "output_type": "stream",
     "text": [
      "Found GPU at: /device:GPU:0\n"
     ]
    }
   ],
   "source": [
    "#Confirme se o TensorFlow pode acessar a GPU.\n",
    "device_name = tf.test.gpu_device_name()\n",
    "if not device_name:\n",
    "    raise SystemError('GPU device not found')\n",
    "    \n",
    "print('Found GPU at: {}'.format(device_name))"
   ]
  },
  {
   "cell_type": "code",
   "execution_count": 8,
   "metadata": {},
   "outputs": [
    {
     "name": "stdout",
     "output_type": "stream",
     "text": [
      "Sun Oct  9 17:56:27 2022       \n",
      "+-----------------------------------------------------------------------------+\n",
      "| NVIDIA-SMI 516.94       Driver Version: 516.94       CUDA Version: 11.7     |\n",
      "|-------------------------------+----------------------+----------------------+\n",
      "| GPU  Name            TCC/WDDM | Bus-Id        Disp.A | Volatile Uncorr. ECC |\n",
      "| Fan  Temp  Perf  Pwr:Usage/Cap|         Memory-Usage | GPU-Util  Compute M. |\n",
      "|                               |                      |               MIG M. |\n",
      "|===============================+======================+======================|\n",
      "|   0  NVIDIA GeForce ... WDDM  | 00000000:65:00.0  On |                  N/A |\n",
      "| 60%   26C    P2    27W / 220W |    979MiB /  8192MiB |      4%      Default |\n",
      "|                               |                      |                  N/A |\n",
      "+-------------------------------+----------------------+----------------------+\n",
      "                                                                               \n",
      "+-----------------------------------------------------------------------------+\n",
      "| Processes:                                                                  |\n",
      "|  GPU   GI   CI        PID   Type   Process name                  GPU Memory |\n",
      "|        ID   ID                                                   Usage      |\n",
      "|=============================================================================|\n",
      "|    0   N/A  N/A      1876    C+G   ...txyewy\\MiniSearchHost.exe    N/A      |\n",
      "|    0   N/A  N/A      2788    C+G   ...ekyb3d8bbwe\\HxOutlook.exe    N/A      |\n",
      "|    0   N/A  N/A      3736    C+G   ...obeNotificationClient.exe    N/A      |\n",
      "|    0   N/A  N/A      5192    C+G   ...8bbwe\\WindowsTerminal.exe    N/A      |\n",
      "|    0   N/A  N/A      5560    C+G   ...370.37\\msedgewebview2.exe    N/A      |\n",
      "|    0   N/A  N/A      5608    C+G   ...n1h2txyewy\\SearchHost.exe    N/A      |\n",
      "|    0   N/A  N/A      9672    C+G   ...y\\ShellExperienceHost.exe    N/A      |\n",
      "|    0   N/A  N/A      9688    C+G   ...e\\PhoneExperienceHost.exe    N/A      |\n",
      "|    0   N/A  N/A     10308    C+G   ...in7x64\\steamwebhelper.exe    N/A      |\n",
      "|    0   N/A  N/A     10812    C+G   ...370.34\\msedgewebview2.exe    N/A      |\n",
      "|    0   N/A  N/A     11320    C+G   ...artMenuExperienceHost.exe    N/A      |\n",
      "|    0   N/A  N/A     12264    C+G   ...ge\\Application\\msedge.exe    N/A      |\n",
      "|    0   N/A  N/A     12376    C+G   ...bbwe\\Microsoft.Photos.exe    N/A      |\n",
      "|    0   N/A  N/A     13160    C+G   ...lPanel\\SystemSettings.exe    N/A      |\n",
      "|    0   N/A  N/A     13656    C+G   ...me\\Application\\chrome.exe    N/A      |\n",
      "|    0   N/A  N/A     15180    C+G   ...x64__pc75e8sa7ep4e\\XD.exe    N/A      |\n",
      "|    0   N/A  N/A     15548    C+G   ...o Webcam\\GoPro Webcam.exe    N/A      |\n",
      "|    0   N/A  N/A     16676    C+G   ...wekyb3d8bbwe\\Video.UI.exe    N/A      |\n",
      "|    0   N/A  N/A     20808    C+G   ...batNotificationClient.exe    N/A      |\n",
      "|    0   N/A  N/A     22548    C+G   ...perience\\NVIDIA Share.exe    N/A      |\n",
      "|    0   N/A  N/A     23520    C+G   C:\\Windows\\explorer.exe         N/A      |\n",
      "|    0   N/A  N/A     26076      C   ...ucas\\anaconda3\\python.exe    N/A      |\n",
      "|    0   N/A  N/A     26148    C+G   ...\\app-1.0.9006\\Discord.exe    N/A      |\n",
      "+-----------------------------------------------------------------------------+\n"
     ]
    }
   ],
   "source": [
    "!nvidia-smi"
   ]
  },
  {
   "cell_type": "code",
   "execution_count": 9,
   "metadata": {},
   "outputs": [],
   "source": [
    "# Gerando dados sintéticos\n",
    "size_sample = 200000\n",
    "\n",
    "# Dados de Treino e teste\n",
    "# x\n",
    "x1 = np.random.randint(0, 100, size_sample)\n",
    "x2 = np.random.randint(0, 100, size_sample)\n",
    "x_treino = np.dstack((x1, x2))[0]\n",
    "\n",
    "# y\n",
    "y_treino = 3*(x1**(1/2)) + 2*(x2**2)\n",
    "\n",
    "# Dados de Validação\n",
    "# x\n",
    "x1 = np.random.randint(0, 100, int(0.1 * size_sample))\n",
    "x2 = np.random.randint(0, 100, int(0.1 * size_sample))\n",
    "x_teste = np.dstack((x1, x2))[0]\n",
    "\n",
    "# y\n",
    "y_teste = 3*(x1**(1/2)) + 2*(x2**2)"
   ]
  },
  {
   "cell_type": "code",
   "execution_count": 10,
   "metadata": {},
   "outputs": [],
   "source": [
    "epochs = 300\n",
    "batch_size = 128\n",
    "nKFold = 5\n",
    "verbose = 2"
   ]
  },
  {
   "cell_type": "code",
   "execution_count": 11,
   "metadata": {},
   "outputs": [],
   "source": [
    "def create_model(optimizer,\n",
    "                 n_dense1,\n",
    "                 n_dense2,\n",
    "                 n_dense3,\n",
    "                 activation1,\n",
    "                 activation2,\n",
    "                 activation3,\n",
    "                 dropout):\n",
    "    \n",
    "    model = Sequential()\n",
    "    model.add(Dense(n_dense1, input_shape = (2,) , activation = activation1))\n",
    "    model.add(Dropout(dropout))\n",
    "    model.add(Dense(n_dense2, activation = activation2))\n",
    "    model.add(Dropout(dropout))\n",
    "    model.add(Dense(n_dense3, activation = activation3))\n",
    "    model.add(Dense(1))\n",
    "    \n",
    "    model.compile(loss='mse', optimizer=optimizer, metrics=[\"mse\"])\n",
    "    \n",
    "    return model"
   ]
  },
  {
   "cell_type": "code",
   "execution_count": 12,
   "metadata": {},
   "outputs": [],
   "source": [
    "checkpoint = ModelCheckpoint(filepath = \"saveModel/bestModel\", \n",
    "                             monitor='val_mse',\n",
    "                             mode='min',\n",
    "                             save_best_only=True,\n",
    "                             save_weights_only=False,\n",
    "                             verbose = verbose)\n",
    "    \n",
    "tensorboard_callback = TensorBoard(log_dir=\"logs/{}\".format(time()))\n",
    "\n",
    "earlystop = EarlyStopping(monitor='val_mse',\n",
    "                              min_delta=0,\n",
    "                              patience=20,\n",
    "                              verbose = verbose,\n",
    "                              restore_best_weights=True)\n",
    "\n",
    "reduce_lr = ReduceLROnPlateau(monitor='val_mse',\n",
    "                              factor=0.25,\n",
    "                              patience=5,\n",
    "                              mode=\"min\",\n",
    "                              verbose = verbose,\n",
    "                              min_delta=0.00001)\n",
    "\n",
    "callbacks = [tensorboard_callback, earlystop, reduce_lr] # checkpoint"
   ]
  },
  {
   "cell_type": "code",
   "execution_count": 13,
   "metadata": {},
   "outputs": [],
   "source": [
    "# Modelo\n",
    "model = KerasRegressor(build_fn = create_model,\n",
    "                        verbose = verbose,\n",
    "                        callbacks = callbacks)"
   ]
  },
  {
   "cell_type": "code",
   "execution_count": 14,
   "metadata": {},
   "outputs": [],
   "source": [
    "#Pipeline\n",
    "steps = [(\"model\", model)]\n",
    "\n",
    "estimator = Pipeline(steps, verbose = verbose)"
   ]
  },
  {
   "cell_type": "code",
   "execution_count": 15,
   "metadata": {},
   "outputs": [],
   "source": [
    "# Definição dos parametros (GridSearch)\n",
    "\n",
    "# Optimizer\n",
    "learning_rate = 0.01\n",
    "\n",
    "opt_SGD = SGD(\n",
    "    learning_rate = learning_rate,\n",
    "    momentum = 0.0,\n",
    "    nesterov = False)\n",
    "\n",
    "opt_RMSprop = RMSprop(\n",
    "    learning_rate = learning_rate,\n",
    "    rho = 0.9,\n",
    "    momentum = 0.0,\n",
    "    epsilon = 1e-07,\n",
    "    centered = False)\n",
    "\n",
    "opt_Adam = Adam(\n",
    "    learning_rate = learning_rate,\n",
    "    beta_1 = 0.9,\n",
    "    beta_2 = 0.999,\n",
    "    epsilon = 1e-07,\n",
    "    amsgrad = False)\n",
    "\n",
    "opt_Adadelta = Adadelta(\n",
    "    learning_rate = learning_rate,\n",
    "    rho = 0.95,\n",
    "    epsilon = 1e-07)\n",
    "\n",
    "opt_Adagrad = Adagrad(\n",
    "    learning_rate = learning_rate,\n",
    "    initial_accumulator_value = 0.1,\n",
    "    epsilon = 1e-07)\n",
    "\n",
    "opt_Adamax = Adamax(\n",
    "    learning_rate = learning_rate,\n",
    "    beta_1 = 0.9,\n",
    "    beta_2 = 0.999,\n",
    "    epsilon = 1e-07)\n",
    "\n",
    "opt_Nadam = Nadam(\n",
    "    learning_rate = learning_rate,\n",
    "    beta_1 = 0.9,\n",
    "    beta_2 = 0.999,\n",
    "    epsilon = 1e-07)\n",
    "\n",
    "opt_Ftrl = Ftrl(\n",
    "    learning_rate = learning_rate,\n",
    "    learning_rate_power = -0.5,\n",
    "    initial_accumulator_value = 0.1,\n",
    "    l1_regularization_strength = 0.0,\n",
    "    l2_regularization_strength = 0.0,\n",
    "    l2_shrinkage_regularization_strength = 0.0,\n",
    "    beta = 0.0)"
   ]
  },
  {
   "cell_type": "code",
   "execution_count": 16,
   "metadata": {},
   "outputs": [],
   "source": [
    "# Outros parametros\n",
    "params_grid = {\n",
    "    # 'model__optimizer': [opt_SGD, opt_RMSprop, opt_Adam, opt_Adadelta, opt_Adagrad, opt_Adamax, opt_Nadam, opt_Ftrl],\n",
    "    'model__optimizer': [opt_Ftrl],\n",
    "    'model__n_dense1': [128],\n",
    "    'model__n_dense2': [128],\n",
    "    'model__n_dense3': [128], \n",
    "    'model__activation1': ['relu'],\n",
    "    'model__activation2': ['relu'],\n",
    "    'model__activation3': ['relu'],\n",
    "    'model__dropout': [0]\n",
    "}"
   ]
  },
  {
   "cell_type": "code",
   "execution_count": 17,
   "metadata": {},
   "outputs": [],
   "source": [
    "grid = GridSearchCV(estimator = estimator,  \n",
    "                    verbose = verbose,\n",
    "                    return_train_score = True,\n",
    "                    cv = nKFold,\n",
    "                    param_grid = params_grid)"
   ]
  },
  {
   "cell_type": "code",
   "execution_count": 18,
   "metadata": {
    "scrolled": false
   },
   "outputs": [
    {
     "data": {
      "text/plain": [
       "Reusing TensorBoard on port 6006 (pid 13440), started 1 day, 6:40:11 ago. (Use '!kill 13440' to kill it.)"
      ]
     },
     "metadata": {},
     "output_type": "display_data"
    },
    {
     "data": {
      "text/html": [
       "\n",
       "      <iframe id=\"tensorboard-frame-4973bd81e7a2e3b\" width=\"100%\" height=\"800\" frameborder=\"0\">\n",
       "      </iframe>\n",
       "      <script>\n",
       "        (function() {\n",
       "          const frame = document.getElementById(\"tensorboard-frame-4973bd81e7a2e3b\");\n",
       "          const url = new URL(\"/\", window.location);\n",
       "          const port = 6006;\n",
       "          if (port) {\n",
       "            url.port = port;\n",
       "          }\n",
       "          frame.src = url;\n",
       "        })();\n",
       "      </script>\n",
       "    "
      ],
      "text/plain": [
       "<IPython.core.display.HTML object>"
      ]
     },
     "metadata": {},
     "output_type": "display_data"
    }
   ],
   "source": [
    "# Monitoramento de Otimização\n",
    "%tensorboard --logdir=logs/"
   ]
  },
  {
   "cell_type": "code",
   "execution_count": null,
   "metadata": {
    "scrolled": true
   },
   "outputs": [
    {
     "name": "stdout",
     "output_type": "stream",
     "text": [
      "Fitting 5 folds for each of 1 candidates, totalling 5 fits\n",
      "Epoch 1/300\n",
      "1250/1250 - 7s - loss: 4013160.7500 - mse: 4013160.7500 - val_loss: 2798705.5000 - val_mse: 2798705.5000 - lr: 0.0100 - 7s/epoch - 5ms/step\n",
      "Epoch 2/300\n",
      "1250/1250 - 4s - loss: 2702635.0000 - mse: 2702635.0000 - val_loss: 2537774.0000 - val_mse: 2537774.0000 - lr: 0.0100 - 4s/epoch - 3ms/step\n",
      "Epoch 3/300\n",
      "1250/1250 - 4s - loss: 2396147.5000 - mse: 2396147.5000 - val_loss: 2137882.7500 - val_mse: 2137882.7500 - lr: 0.0100 - 4s/epoch - 3ms/step\n",
      "Epoch 4/300\n",
      "1250/1250 - 4s - loss: 1777276.8750 - mse: 1777276.8750 - val_loss: 1309144.1250 - val_mse: 1309144.1250 - lr: 0.0100 - 4s/epoch - 3ms/step\n",
      "Epoch 5/300\n",
      "1250/1250 - 5s - loss: 912096.1250 - mse: 912096.1250 - val_loss: 589907.5625 - val_mse: 589907.5625 - lr: 0.0100 - 5s/epoch - 4ms/step\n",
      "Epoch 6/300\n",
      "1250/1250 - 5s - loss: 441033.4688 - mse: 441033.4688 - val_loss: 334325.5938 - val_mse: 334325.5938 - lr: 0.0100 - 5s/epoch - 4ms/step\n",
      "Epoch 7/300\n",
      "1250/1250 - 5s - loss: 261162.3438 - mse: 261162.3438 - val_loss: 205129.6875 - val_mse: 205129.6875 - lr: 0.0100 - 5s/epoch - 4ms/step\n",
      "Epoch 8/300\n",
      "1250/1250 - 5s - loss: 170342.0469 - mse: 170342.0469 - val_loss: 145859.7656 - val_mse: 145859.7656 - lr: 0.0100 - 5s/epoch - 4ms/step\n",
      "Epoch 9/300\n",
      "1250/1250 - 4s - loss: 119646.2109 - mse: 119646.2109 - val_loss: 100515.2109 - val_mse: 100515.2109 - lr: 0.0100 - 4s/epoch - 4ms/step\n",
      "Epoch 10/300\n",
      "1250/1250 - 5s - loss: 88420.9141 - mse: 88420.9141 - val_loss: 79012.2266 - val_mse: 79012.2266 - lr: 0.0100 - 5s/epoch - 4ms/step\n",
      "Epoch 11/300\n",
      "1250/1250 - 4s - loss: 66136.5234 - mse: 66136.5234 - val_loss: 56428.3281 - val_mse: 56428.3281 - lr: 0.0100 - 4s/epoch - 3ms/step\n",
      "Epoch 12/300\n",
      "1250/1250 - 4s - loss: 50897.7422 - mse: 50897.7422 - val_loss: 44752.5664 - val_mse: 44752.5664 - lr: 0.0100 - 4s/epoch - 3ms/step\n",
      "Epoch 13/300\n",
      "1250/1250 - 4s - loss: 40333.6445 - mse: 40333.6445 - val_loss: 35920.3086 - val_mse: 35920.3086 - lr: 0.0100 - 4s/epoch - 3ms/step\n",
      "Epoch 14/300\n",
      "1250/1250 - 4s - loss: 32933.9062 - mse: 32933.9062 - val_loss: 29504.4199 - val_mse: 29504.4199 - lr: 0.0100 - 4s/epoch - 3ms/step\n",
      "Epoch 15/300\n",
      "1250/1250 - 4s - loss: 27555.1270 - mse: 27555.1270 - val_loss: 28545.5488 - val_mse: 28545.5488 - lr: 0.0100 - 4s/epoch - 3ms/step\n",
      "Epoch 16/300\n",
      "1250/1250 - 4s - loss: 23254.5293 - mse: 23254.5293 - val_loss: 21618.1230 - val_mse: 21618.1230 - lr: 0.0100 - 4s/epoch - 3ms/step\n",
      "Epoch 17/300\n",
      "1250/1250 - 4s - loss: 20181.7754 - mse: 20181.7754 - val_loss: 20521.7832 - val_mse: 20521.7832 - lr: 0.0100 - 4s/epoch - 3ms/step\n",
      "Epoch 18/300\n",
      "1250/1250 - 4s - loss: 17454.1641 - mse: 17454.1641 - val_loss: 16210.2852 - val_mse: 16210.2852 - lr: 0.0100 - 4s/epoch - 3ms/step\n",
      "Epoch 19/300\n",
      "1250/1250 - 4s - loss: 15370.0859 - mse: 15370.0859 - val_loss: 14238.0498 - val_mse: 14238.0498 - lr: 0.0100 - 4s/epoch - 3ms/step\n",
      "Epoch 20/300\n",
      "1250/1250 - 4s - loss: 13548.1572 - mse: 13548.1572 - val_loss: 12741.6025 - val_mse: 12741.6025 - lr: 0.0100 - 4s/epoch - 3ms/step\n",
      "Epoch 21/300\n",
      "1250/1250 - 4s - loss: 12035.3213 - mse: 12035.3213 - val_loss: 12716.9805 - val_mse: 12716.9805 - lr: 0.0100 - 4s/epoch - 3ms/step\n",
      "Epoch 22/300\n",
      "1250/1250 - 4s - loss: 10834.2979 - mse: 10834.2979 - val_loss: 10396.2207 - val_mse: 10396.2207 - lr: 0.0100 - 4s/epoch - 3ms/step\n",
      "Epoch 23/300\n",
      "1250/1250 - 4s - loss: 9781.4844 - mse: 9781.4844 - val_loss: 9211.9424 - val_mse: 9211.9424 - lr: 0.0100 - 4s/epoch - 3ms/step\n",
      "Epoch 24/300\n",
      "1250/1250 - 4s - loss: 8887.8340 - mse: 8887.8340 - val_loss: 8526.1660 - val_mse: 8526.1660 - lr: 0.0100 - 4s/epoch - 3ms/step\n",
      "Epoch 25/300\n",
      "1250/1250 - 4s - loss: 8126.5078 - mse: 8126.5078 - val_loss: 7705.2583 - val_mse: 7705.2583 - lr: 0.0100 - 4s/epoch - 3ms/step\n",
      "Epoch 26/300\n",
      "1250/1250 - 4s - loss: 7431.9102 - mse: 7431.9102 - val_loss: 7340.3594 - val_mse: 7340.3594 - lr: 0.0100 - 4s/epoch - 3ms/step\n",
      "Epoch 27/300\n",
      "1250/1250 - 4s - loss: 6842.7358 - mse: 6842.7358 - val_loss: 6688.9336 - val_mse: 6688.9336 - lr: 0.0100 - 4s/epoch - 3ms/step\n",
      "Epoch 28/300\n",
      "1250/1250 - 4s - loss: 6341.2417 - mse: 6341.2417 - val_loss: 6127.5703 - val_mse: 6127.5703 - lr: 0.0100 - 4s/epoch - 3ms/step\n",
      "Epoch 29/300\n",
      "1250/1250 - 4s - loss: 5871.2246 - mse: 5871.2246 - val_loss: 5922.7080 - val_mse: 5922.7080 - lr: 0.0100 - 4s/epoch - 3ms/step\n",
      "Epoch 30/300\n",
      "1250/1250 - 4s - loss: 5497.9692 - mse: 5497.9692 - val_loss: 5267.8105 - val_mse: 5267.8105 - lr: 0.0100 - 4s/epoch - 3ms/step\n",
      "Epoch 31/300\n",
      "1250/1250 - 4s - loss: 5122.5386 - mse: 5122.5386 - val_loss: 4917.0020 - val_mse: 4917.0020 - lr: 0.0100 - 4s/epoch - 3ms/step\n",
      "Epoch 32/300\n",
      "1250/1250 - 4s - loss: 4776.7036 - mse: 4776.7036 - val_loss: 4674.7183 - val_mse: 4674.7183 - lr: 0.0100 - 4s/epoch - 3ms/step\n",
      "Epoch 33/300\n",
      "1250/1250 - 4s - loss: 4447.4370 - mse: 4447.4370 - val_loss: 4531.6294 - val_mse: 4531.6294 - lr: 0.0100 - 4s/epoch - 3ms/step\n",
      "Epoch 34/300\n",
      "1250/1250 - 4s - loss: 4195.7222 - mse: 4195.7222 - val_loss: 4065.6572 - val_mse: 4065.6572 - lr: 0.0100 - 4s/epoch - 3ms/step\n",
      "Epoch 35/300\n",
      "1250/1250 - 4s - loss: 3929.4951 - mse: 3929.4951 - val_loss: 3831.1624 - val_mse: 3831.1624 - lr: 0.0100 - 4s/epoch - 3ms/step\n",
      "Epoch 36/300\n",
      "1250/1250 - 4s - loss: 3708.7173 - mse: 3708.7173 - val_loss: 3629.8435 - val_mse: 3629.8435 - lr: 0.0100 - 4s/epoch - 3ms/step\n",
      "Epoch 37/300\n",
      "1250/1250 - 4s - loss: 3501.2903 - mse: 3501.2903 - val_loss: 3588.5117 - val_mse: 3588.5117 - lr: 0.0100 - 4s/epoch - 3ms/step\n",
      "Epoch 38/300\n",
      "1250/1250 - 4s - loss: 3320.3181 - mse: 3320.3181 - val_loss: 3599.0413 - val_mse: 3599.0413 - lr: 0.0100 - 4s/epoch - 3ms/step\n",
      "Epoch 39/300\n",
      "1250/1250 - 4s - loss: 3154.5259 - mse: 3154.5259 - val_loss: 3056.6050 - val_mse: 3056.6050 - lr: 0.0100 - 4s/epoch - 3ms/step\n",
      "Epoch 40/300\n",
      "1250/1250 - 4s - loss: 2972.3162 - mse: 2972.3162 - val_loss: 2911.5576 - val_mse: 2911.5576 - lr: 0.0100 - 4s/epoch - 3ms/step\n",
      "Epoch 41/300\n",
      "1250/1250 - 4s - loss: 2823.6416 - mse: 2823.6416 - val_loss: 2812.6660 - val_mse: 2812.6660 - lr: 0.0100 - 4s/epoch - 3ms/step\n",
      "Epoch 42/300\n",
      "1250/1250 - 4s - loss: 2691.5078 - mse: 2691.5078 - val_loss: 2641.5950 - val_mse: 2641.5950 - lr: 0.0100 - 4s/epoch - 3ms/step\n",
      "Epoch 43/300\n",
      "1250/1250 - 4s - loss: 2552.6411 - mse: 2552.6411 - val_loss: 2500.5149 - val_mse: 2500.5149 - lr: 0.0100 - 4s/epoch - 3ms/step\n",
      "Epoch 44/300\n",
      "1250/1250 - 4s - loss: 2436.1809 - mse: 2436.1809 - val_loss: 2391.9592 - val_mse: 2391.9592 - lr: 0.0100 - 4s/epoch - 3ms/step\n",
      "Epoch 45/300\n",
      "1250/1250 - 4s - loss: 2297.4099 - mse: 2297.4099 - val_loss: 2324.6553 - val_mse: 2324.6553 - lr: 0.0100 - 4s/epoch - 3ms/step\n",
      "Epoch 46/300\n",
      "1250/1250 - 4s - loss: 2201.5847 - mse: 2201.5847 - val_loss: 2312.5229 - val_mse: 2312.5229 - lr: 0.0100 - 4s/epoch - 3ms/step\n",
      "Epoch 47/300\n",
      "1250/1250 - 4s - loss: 2091.9597 - mse: 2091.9597 - val_loss: 2178.9482 - val_mse: 2178.9482 - lr: 0.0100 - 4s/epoch - 3ms/step\n",
      "Epoch 48/300\n",
      "1250/1250 - 4s - loss: 1998.6056 - mse: 1998.6056 - val_loss: 2023.6112 - val_mse: 2023.6112 - lr: 0.0100 - 4s/epoch - 3ms/step\n",
      "Epoch 49/300\n",
      "1250/1250 - 4s - loss: 1921.3944 - mse: 1921.3944 - val_loss: 1967.1058 - val_mse: 1967.1058 - lr: 0.0100 - 4s/epoch - 3ms/step\n",
      "Epoch 50/300\n",
      "1250/1250 - 4s - loss: 1826.8386 - mse: 1826.8386 - val_loss: 1801.0392 - val_mse: 1801.0392 - lr: 0.0100 - 4s/epoch - 3ms/step\n",
      "Epoch 51/300\n",
      "1250/1250 - 4s - loss: 1750.0060 - mse: 1750.0060 - val_loss: 1737.7520 - val_mse: 1737.7520 - lr: 0.0100 - 4s/epoch - 3ms/step\n",
      "Epoch 52/300\n",
      "1250/1250 - 4s - loss: 1681.8531 - mse: 1681.8531 - val_loss: 1838.5946 - val_mse: 1838.5946 - lr: 0.0100 - 4s/epoch - 3ms/step\n",
      "Epoch 53/300\n",
      "1250/1250 - 4s - loss: 1617.7633 - mse: 1617.7633 - val_loss: 1626.5157 - val_mse: 1626.5157 - lr: 0.0100 - 4s/epoch - 3ms/step\n",
      "Epoch 54/300\n",
      "1250/1250 - 4s - loss: 1537.5273 - mse: 1537.5273 - val_loss: 1634.2617 - val_mse: 1634.2617 - lr: 0.0100 - 4s/epoch - 3ms/step\n",
      "Epoch 55/300\n",
      "1250/1250 - 4s - loss: 1478.6902 - mse: 1478.6902 - val_loss: 1500.2651 - val_mse: 1500.2651 - lr: 0.0100 - 4s/epoch - 3ms/step\n",
      "Epoch 56/300\n",
      "1250/1250 - 4s - loss: 1412.3958 - mse: 1412.3958 - val_loss: 1394.0602 - val_mse: 1394.0602 - lr: 0.0100 - 4s/epoch - 3ms/step\n",
      "Epoch 57/300\n",
      "1250/1250 - 4s - loss: 1363.3564 - mse: 1363.3564 - val_loss: 1412.6320 - val_mse: 1412.6320 - lr: 0.0100 - 4s/epoch - 3ms/step\n"
     ]
    },
    {
     "name": "stdout",
     "output_type": "stream",
     "text": [
      "Epoch 58/300\n",
      "1250/1250 - 4s - loss: 1314.1908 - mse: 1314.1908 - val_loss: 1348.0474 - val_mse: 1348.0474 - lr: 0.0100 - 4s/epoch - 3ms/step\n",
      "Epoch 59/300\n",
      "1250/1250 - 4s - loss: 1264.0657 - mse: 1264.0657 - val_loss: 1258.1970 - val_mse: 1258.1970 - lr: 0.0100 - 4s/epoch - 3ms/step\n",
      "Epoch 60/300\n",
      "1250/1250 - 4s - loss: 1213.8442 - mse: 1213.8442 - val_loss: 1278.9871 - val_mse: 1278.9871 - lr: 0.0100 - 4s/epoch - 3ms/step\n",
      "Epoch 61/300\n",
      "1250/1250 - 4s - loss: 1173.7528 - mse: 1173.7528 - val_loss: 1183.0587 - val_mse: 1183.0587 - lr: 0.0100 - 4s/epoch - 3ms/step\n",
      "Epoch 62/300\n",
      "1250/1250 - 4s - loss: 1135.9518 - mse: 1135.9518 - val_loss: 1119.3676 - val_mse: 1119.3676 - lr: 0.0100 - 4s/epoch - 3ms/step\n",
      "Epoch 63/300\n",
      "1250/1250 - 4s - loss: 1103.0491 - mse: 1103.0491 - val_loss: 1094.0964 - val_mse: 1094.0964 - lr: 0.0100 - 4s/epoch - 3ms/step\n",
      "Epoch 64/300\n",
      "1250/1250 - 4s - loss: 1063.4984 - mse: 1063.4984 - val_loss: 1063.8689 - val_mse: 1063.8689 - lr: 0.0100 - 4s/epoch - 3ms/step\n",
      "Epoch 65/300\n",
      "1250/1250 - 4s - loss: 1024.2451 - mse: 1024.2451 - val_loss: 1039.2743 - val_mse: 1039.2743 - lr: 0.0100 - 4s/epoch - 3ms/step\n",
      "Epoch 66/300\n",
      "1250/1250 - 4s - loss: 1004.9324 - mse: 1004.9324 - val_loss: 980.6944 - val_mse: 980.6944 - lr: 0.0100 - 4s/epoch - 3ms/step\n",
      "Epoch 67/300\n",
      "1250/1250 - 4s - loss: 964.6818 - mse: 964.6818 - val_loss: 959.5089 - val_mse: 959.5089 - lr: 0.0100 - 4s/epoch - 3ms/step\n",
      "Epoch 68/300\n",
      "1250/1250 - 4s - loss: 934.8802 - mse: 934.8802 - val_loss: 923.1781 - val_mse: 923.1781 - lr: 0.0100 - 4s/epoch - 3ms/step\n",
      "Epoch 69/300\n",
      "1250/1250 - 4s - loss: 911.8925 - mse: 911.8925 - val_loss: 907.4962 - val_mse: 907.4962 - lr: 0.0100 - 4s/epoch - 3ms/step\n",
      "Epoch 70/300\n",
      "1250/1250 - 4s - loss: 883.7005 - mse: 883.7005 - val_loss: 878.6748 - val_mse: 878.6748 - lr: 0.0100 - 4s/epoch - 3ms/step\n",
      "Epoch 71/300\n",
      "1250/1250 - 4s - loss: 859.0330 - mse: 859.0330 - val_loss: 932.8850 - val_mse: 932.8850 - lr: 0.0100 - 4s/epoch - 3ms/step\n",
      "Epoch 72/300\n",
      "1250/1250 - 4s - loss: 830.1738 - mse: 830.1738 - val_loss: 822.2955 - val_mse: 822.2955 - lr: 0.0100 - 4s/epoch - 3ms/step\n",
      "Epoch 73/300\n",
      "1250/1250 - 4s - loss: 806.8840 - mse: 806.8840 - val_loss: 801.5237 - val_mse: 801.5237 - lr: 0.0100 - 4s/epoch - 3ms/step\n",
      "Epoch 74/300\n",
      "1250/1250 - 4s - loss: 789.2400 - mse: 789.2400 - val_loss: 778.9363 - val_mse: 778.9363 - lr: 0.0100 - 4s/epoch - 3ms/step\n",
      "Epoch 75/300\n",
      "1250/1250 - 4s - loss: 766.1245 - mse: 766.1245 - val_loss: 759.5568 - val_mse: 759.5568 - lr: 0.0100 - 4s/epoch - 3ms/step\n",
      "Epoch 76/300\n",
      "1250/1250 - 4s - loss: 750.7756 - mse: 750.7756 - val_loss: 733.6042 - val_mse: 733.6042 - lr: 0.0100 - 4s/epoch - 3ms/step\n",
      "Epoch 77/300\n",
      "1250/1250 - 4s - loss: 729.2401 - mse: 729.2401 - val_loss: 723.3750 - val_mse: 723.3750 - lr: 0.0100 - 4s/epoch - 3ms/step\n",
      "Epoch 78/300\n",
      "1250/1250 - 4s - loss: 711.3444 - mse: 711.3444 - val_loss: 748.3579 - val_mse: 748.3579 - lr: 0.0100 - 4s/epoch - 3ms/step\n",
      "Epoch 79/300\n",
      "1250/1250 - 4s - loss: 692.2447 - mse: 692.2447 - val_loss: 698.1602 - val_mse: 698.1602 - lr: 0.0100 - 4s/epoch - 3ms/step\n",
      "Epoch 80/300\n",
      "1250/1250 - 4s - loss: 679.2063 - mse: 679.2063 - val_loss: 669.8776 - val_mse: 669.8776 - lr: 0.0100 - 4s/epoch - 3ms/step\n",
      "Epoch 81/300\n",
      "1250/1250 - 4s - loss: 662.5750 - mse: 662.5750 - val_loss: 658.2521 - val_mse: 658.2521 - lr: 0.0100 - 4s/epoch - 3ms/step\n",
      "Epoch 82/300\n",
      "1250/1250 - 4s - loss: 643.9124 - mse: 643.9124 - val_loss: 649.9469 - val_mse: 649.9469 - lr: 0.0100 - 4s/epoch - 3ms/step\n",
      "Epoch 83/300\n",
      "1250/1250 - 4s - loss: 634.1263 - mse: 634.1263 - val_loss: 666.7229 - val_mse: 666.7229 - lr: 0.0100 - 4s/epoch - 3ms/step\n",
      "Epoch 84/300\n",
      "1250/1250 - 4s - loss: 624.7039 - mse: 624.7039 - val_loss: 612.2214 - val_mse: 612.2214 - lr: 0.0100 - 4s/epoch - 3ms/step\n",
      "Epoch 85/300\n",
      "1250/1250 - 4s - loss: 607.5332 - mse: 607.5332 - val_loss: 664.4769 - val_mse: 664.4769 - lr: 0.0100 - 4s/epoch - 3ms/step\n",
      "Epoch 86/300\n",
      "1250/1250 - 4s - loss: 596.3118 - mse: 596.3118 - val_loss: 694.4905 - val_mse: 694.4905 - lr: 0.0100 - 4s/epoch - 3ms/step\n",
      "Epoch 87/300\n",
      "1250/1250 - 4s - loss: 582.3451 - mse: 582.3451 - val_loss: 592.3190 - val_mse: 592.3190 - lr: 0.0100 - 4s/epoch - 3ms/step\n",
      "Epoch 88/300\n",
      "1250/1250 - 4s - loss: 574.2900 - mse: 574.2900 - val_loss: 580.9083 - val_mse: 580.9083 - lr: 0.0100 - 4s/epoch - 3ms/step\n",
      "Epoch 89/300\n",
      "1250/1250 - 4s - loss: 562.5671 - mse: 562.5671 - val_loss: 557.4512 - val_mse: 557.4512 - lr: 0.0100 - 4s/epoch - 3ms/step\n",
      "Epoch 90/300\n",
      "1250/1250 - 4s - loss: 554.3746 - mse: 554.3746 - val_loss: 556.4195 - val_mse: 556.4195 - lr: 0.0100 - 4s/epoch - 3ms/step\n",
      "Epoch 91/300\n",
      "1250/1250 - 4s - loss: 542.6923 - mse: 542.6923 - val_loss: 538.6290 - val_mse: 538.6290 - lr: 0.0100 - 4s/epoch - 3ms/step\n",
      "Epoch 92/300\n",
      "1250/1250 - 4s - loss: 532.4587 - mse: 532.4587 - val_loss: 692.5120 - val_mse: 692.5120 - lr: 0.0100 - 4s/epoch - 3ms/step\n",
      "Epoch 93/300\n",
      "1250/1250 - 5s - loss: 524.3256 - mse: 524.3256 - val_loss: 516.8265 - val_mse: 516.8265 - lr: 0.0100 - 5s/epoch - 4ms/step\n",
      "Epoch 94/300\n",
      "1250/1250 - 4s - loss: 518.3649 - mse: 518.3649 - val_loss: 508.4144 - val_mse: 508.4144 - lr: 0.0100 - 4s/epoch - 3ms/step\n",
      "Epoch 95/300\n",
      "1250/1250 - 4s - loss: 508.2289 - mse: 508.2289 - val_loss: 521.7479 - val_mse: 521.7479 - lr: 0.0100 - 4s/epoch - 3ms/step\n",
      "Epoch 96/300\n",
      "1250/1250 - 4s - loss: 497.8258 - mse: 497.8258 - val_loss: 507.5796 - val_mse: 507.5796 - lr: 0.0100 - 4s/epoch - 3ms/step\n",
      "Epoch 97/300\n",
      "1250/1250 - 4s - loss: 491.2627 - mse: 491.2627 - val_loss: 517.7780 - val_mse: 517.7780 - lr: 0.0100 - 4s/epoch - 3ms/step\n",
      "Epoch 98/300\n",
      "1250/1250 - 4s - loss: 486.2509 - mse: 486.2509 - val_loss: 476.6419 - val_mse: 476.6419 - lr: 0.0100 - 4s/epoch - 3ms/step\n",
      "Epoch 99/300\n",
      "1250/1250 - 4s - loss: 478.0374 - mse: 478.0374 - val_loss: 481.3726 - val_mse: 481.3726 - lr: 0.0100 - 4s/epoch - 3ms/step\n",
      "Epoch 100/300\n",
      "1250/1250 - 4s - loss: 469.3750 - mse: 469.3750 - val_loss: 471.9054 - val_mse: 471.9054 - lr: 0.0100 - 4s/epoch - 3ms/step\n",
      "Epoch 101/300\n",
      "1250/1250 - 4s - loss: 463.9990 - mse: 463.9990 - val_loss: 469.6303 - val_mse: 469.6303 - lr: 0.0100 - 4s/epoch - 3ms/step\n",
      "Epoch 102/300\n",
      "1250/1250 - 4s - loss: 459.9899 - mse: 459.9899 - val_loss: 454.7314 - val_mse: 454.7314 - lr: 0.0100 - 4s/epoch - 3ms/step\n",
      "Epoch 103/300\n",
      "1250/1250 - 4s - loss: 454.7071 - mse: 454.7071 - val_loss: 450.1554 - val_mse: 450.1554 - lr: 0.0100 - 4s/epoch - 3ms/step\n",
      "Epoch 104/300\n",
      "1250/1250 - 4s - loss: 446.2250 - mse: 446.2250 - val_loss: 437.3003 - val_mse: 437.3003 - lr: 0.0100 - 4s/epoch - 3ms/step\n",
      "Epoch 105/300\n",
      "1250/1250 - 4s - loss: 440.3208 - mse: 440.3208 - val_loss: 431.6813 - val_mse: 431.6813 - lr: 0.0100 - 4s/epoch - 3ms/step\n",
      "Epoch 106/300\n",
      "1250/1250 - 4s - loss: 436.3795 - mse: 436.3795 - val_loss: 426.9532 - val_mse: 426.9532 - lr: 0.0100 - 4s/epoch - 3ms/step\n",
      "Epoch 107/300\n",
      "1250/1250 - 4s - loss: 430.9018 - mse: 430.9018 - val_loss: 435.9391 - val_mse: 435.9391 - lr: 0.0100 - 4s/epoch - 3ms/step\n",
      "Epoch 108/300\n",
      "1250/1250 - 4s - loss: 427.5196 - mse: 427.5196 - val_loss: 415.4089 - val_mse: 415.4089 - lr: 0.0100 - 4s/epoch - 3ms/step\n",
      "Epoch 109/300\n",
      "1250/1250 - 4s - loss: 422.4584 - mse: 422.4584 - val_loss: 422.4720 - val_mse: 422.4720 - lr: 0.0100 - 4s/epoch - 3ms/step\n",
      "Epoch 110/300\n",
      "1250/1250 - 4s - loss: 416.3620 - mse: 416.3620 - val_loss: 409.0163 - val_mse: 409.0163 - lr: 0.0100 - 4s/epoch - 3ms/step\n",
      "Epoch 111/300\n",
      "1250/1250 - 4s - loss: 413.3096 - mse: 413.3096 - val_loss: 404.8762 - val_mse: 404.8762 - lr: 0.0100 - 4s/epoch - 3ms/step\n",
      "Epoch 112/300\n",
      "1250/1250 - 4s - loss: 408.0074 - mse: 408.0074 - val_loss: 399.5621 - val_mse: 399.5621 - lr: 0.0100 - 4s/epoch - 3ms/step\n",
      "Epoch 113/300\n",
      "1250/1250 - 4s - loss: 403.5930 - mse: 403.5930 - val_loss: 417.6991 - val_mse: 417.6991 - lr: 0.0100 - 4s/epoch - 3ms/step\n",
      "Epoch 114/300\n",
      "1250/1250 - 4s - loss: 397.5320 - mse: 397.5320 - val_loss: 422.9641 - val_mse: 422.9641 - lr: 0.0100 - 4s/epoch - 3ms/step\n",
      "Epoch 115/300\n",
      "1250/1250 - 4s - loss: 394.7101 - mse: 394.7101 - val_loss: 386.1684 - val_mse: 386.1684 - lr: 0.0100 - 4s/epoch - 3ms/step\n",
      "Epoch 116/300\n",
      "1250/1250 - 4s - loss: 391.2744 - mse: 391.2744 - val_loss: 390.0372 - val_mse: 390.0372 - lr: 0.0100 - 4s/epoch - 3ms/step\n",
      "Epoch 117/300\n",
      "1250/1250 - 4s - loss: 386.7416 - mse: 386.7416 - val_loss: 377.7459 - val_mse: 377.7459 - lr: 0.0100 - 4s/epoch - 3ms/step\n"
     ]
    },
    {
     "name": "stdout",
     "output_type": "stream",
     "text": [
      "Epoch 118/300\n",
      "1250/1250 - 4s - loss: 382.3553 - mse: 382.3553 - val_loss: 390.5056 - val_mse: 390.5056 - lr: 0.0100 - 4s/epoch - 3ms/step\n",
      "Epoch 119/300\n",
      "1250/1250 - 4s - loss: 378.9920 - mse: 378.9920 - val_loss: 413.5252 - val_mse: 413.5252 - lr: 0.0100 - 4s/epoch - 3ms/step\n",
      "Epoch 120/300\n",
      "1250/1250 - 4s - loss: 376.1096 - mse: 376.1096 - val_loss: 388.1307 - val_mse: 388.1307 - lr: 0.0100 - 4s/epoch - 3ms/step\n",
      "Epoch 121/300\n",
      "1250/1250 - 4s - loss: 373.3220 - mse: 373.3220 - val_loss: 365.3223 - val_mse: 365.3223 - lr: 0.0100 - 4s/epoch - 3ms/step\n",
      "Epoch 122/300\n",
      "1250/1250 - 4s - loss: 369.8264 - mse: 369.8264 - val_loss: 367.0096 - val_mse: 367.0096 - lr: 0.0100 - 4s/epoch - 3ms/step\n",
      "Epoch 123/300\n",
      "1250/1250 - 4s - loss: 366.0761 - mse: 366.0761 - val_loss: 455.5177 - val_mse: 455.5177 - lr: 0.0100 - 4s/epoch - 3ms/step\n",
      "Epoch 124/300\n",
      "1250/1250 - 4s - loss: 364.0102 - mse: 364.0102 - val_loss: 361.2805 - val_mse: 361.2805 - lr: 0.0100 - 4s/epoch - 3ms/step\n",
      "Epoch 125/300\n",
      "1250/1250 - 4s - loss: 359.4317 - mse: 359.4317 - val_loss: 355.5640 - val_mse: 355.5640 - lr: 0.0100 - 4s/epoch - 3ms/step\n",
      "Epoch 126/300\n",
      "1250/1250 - 4s - loss: 356.1306 - mse: 356.1306 - val_loss: 363.6596 - val_mse: 363.6596 - lr: 0.0100 - 4s/epoch - 3ms/step\n",
      "Epoch 127/300\n",
      "1250/1250 - 4s - loss: 353.4728 - mse: 353.4728 - val_loss: 349.6786 - val_mse: 349.6786 - lr: 0.0100 - 4s/epoch - 3ms/step\n",
      "Epoch 128/300\n",
      "1250/1250 - 4s - loss: 349.0038 - mse: 349.0038 - val_loss: 363.4061 - val_mse: 363.4061 - lr: 0.0100 - 4s/epoch - 3ms/step\n",
      "Epoch 129/300\n",
      "1250/1250 - 4s - loss: 346.2572 - mse: 346.2572 - val_loss: 350.5190 - val_mse: 350.5190 - lr: 0.0100 - 4s/epoch - 3ms/step\n",
      "Epoch 130/300\n",
      "1250/1250 - 4s - loss: 343.9262 - mse: 343.9262 - val_loss: 336.2766 - val_mse: 336.2766 - lr: 0.0100 - 4s/epoch - 3ms/step\n",
      "Epoch 131/300\n",
      "1250/1250 - 4s - loss: 336.6621 - mse: 336.6621 - val_loss: 336.7041 - val_mse: 336.7041 - lr: 0.0100 - 4s/epoch - 3ms/step\n",
      "Epoch 132/300\n",
      "1250/1250 - 5s - loss: 334.8194 - mse: 334.8194 - val_loss: 337.3940 - val_mse: 337.3940 - lr: 0.0100 - 5s/epoch - 4ms/step\n",
      "Epoch 133/300\n",
      "1250/1250 - 4s - loss: 332.5634 - mse: 332.5634 - val_loss: 336.3582 - val_mse: 336.3582 - lr: 0.0100 - 4s/epoch - 3ms/step\n",
      "Epoch 134/300\n",
      "1250/1250 - 4s - loss: 328.6331 - mse: 328.6331 - val_loss: 324.0334 - val_mse: 324.0334 - lr: 0.0100 - 4s/epoch - 3ms/step\n",
      "Epoch 135/300\n",
      "1250/1250 - 4s - loss: 325.8070 - mse: 325.8070 - val_loss: 321.0129 - val_mse: 321.0129 - lr: 0.0100 - 4s/epoch - 3ms/step\n",
      "Epoch 136/300\n",
      "1250/1250 - 4s - loss: 323.0151 - mse: 323.0151 - val_loss: 317.3220 - val_mse: 317.3220 - lr: 0.0100 - 4s/epoch - 3ms/step\n",
      "Epoch 137/300\n",
      "1250/1250 - 4s - loss: 320.6027 - mse: 320.6027 - val_loss: 320.8482 - val_mse: 320.8482 - lr: 0.0100 - 4s/epoch - 3ms/step\n",
      "Epoch 138/300\n",
      "1250/1250 - 4s - loss: 317.4749 - mse: 317.4749 - val_loss: 323.2568 - val_mse: 323.2568 - lr: 0.0100 - 4s/epoch - 4ms/step\n",
      "Epoch 139/300\n",
      "1250/1250 - 5s - loss: 315.3320 - mse: 315.3320 - val_loss: 309.1305 - val_mse: 309.1305 - lr: 0.0100 - 5s/epoch - 4ms/step\n",
      "Epoch 140/300\n",
      "1250/1250 - 5s - loss: 313.2224 - mse: 313.2224 - val_loss: 307.0724 - val_mse: 307.0724 - lr: 0.0100 - 5s/epoch - 4ms/step\n",
      "Epoch 141/300\n",
      "1250/1250 - 4s - loss: 309.5139 - mse: 309.5139 - val_loss: 315.0898 - val_mse: 315.0898 - lr: 0.0100 - 4s/epoch - 4ms/step\n",
      "Epoch 142/300\n",
      "1250/1250 - 4s - loss: 308.8437 - mse: 308.8437 - val_loss: 357.1170 - val_mse: 357.1170 - lr: 0.0100 - 4s/epoch - 3ms/step\n",
      "Epoch 143/300\n",
      "1250/1250 - 4s - loss: 308.0927 - mse: 308.0927 - val_loss: 327.0387 - val_mse: 327.0387 - lr: 0.0100 - 4s/epoch - 3ms/step\n",
      "Epoch 144/300\n",
      "1250/1250 - 4s - loss: 302.5388 - mse: 302.5388 - val_loss: 299.9005 - val_mse: 299.9005 - lr: 0.0100 - 4s/epoch - 3ms/step\n",
      "Epoch 145/300\n",
      "1250/1250 - 4s - loss: 300.5841 - mse: 300.5841 - val_loss: 315.8354 - val_mse: 315.8354 - lr: 0.0100 - 4s/epoch - 3ms/step\n",
      "Epoch 146/300\n",
      "1250/1250 - 4s - loss: 299.0292 - mse: 299.0292 - val_loss: 320.8000 - val_mse: 320.8000 - lr: 0.0100 - 4s/epoch - 3ms/step\n",
      "Epoch 147/300\n",
      "1250/1250 - 4s - loss: 297.1183 - mse: 297.1183 - val_loss: 292.5921 - val_mse: 292.5921 - lr: 0.0100 - 4s/epoch - 3ms/step\n",
      "Epoch 148/300\n",
      "1250/1250 - 4s - loss: 294.3073 - mse: 294.3073 - val_loss: 293.7774 - val_mse: 293.7774 - lr: 0.0100 - 4s/epoch - 3ms/step\n",
      "Epoch 149/300\n",
      "1250/1250 - 4s - loss: 292.5103 - mse: 292.5103 - val_loss: 297.0071 - val_mse: 297.0071 - lr: 0.0100 - 4s/epoch - 3ms/step\n",
      "Epoch 150/300\n",
      "1250/1250 - 4s - loss: 290.6486 - mse: 290.6486 - val_loss: 286.2180 - val_mse: 286.2180 - lr: 0.0100 - 4s/epoch - 3ms/step\n",
      "Epoch 151/300\n",
      "1250/1250 - 4s - loss: 290.2863 - mse: 290.2863 - val_loss: 289.5885 - val_mse: 289.5885 - lr: 0.0100 - 4s/epoch - 3ms/step\n",
      "Epoch 152/300\n",
      "1250/1250 - 4s - loss: 287.6997 - mse: 287.6997 - val_loss: 287.2879 - val_mse: 287.2879 - lr: 0.0100 - 4s/epoch - 3ms/step\n",
      "Epoch 153/300\n",
      "1250/1250 - 4s - loss: 285.9608 - mse: 285.9608 - val_loss: 336.2408 - val_mse: 336.2408 - lr: 0.0100 - 4s/epoch - 3ms/step\n",
      "Epoch 154/300\n",
      "1250/1250 - 4s - loss: 285.3999 - mse: 285.3999 - val_loss: 281.6176 - val_mse: 281.6176 - lr: 0.0100 - 4s/epoch - 3ms/step\n",
      "Epoch 155/300\n",
      "1250/1250 - 4s - loss: 282.3120 - mse: 282.3120 - val_loss: 280.4069 - val_mse: 280.4069 - lr: 0.0100 - 4s/epoch - 3ms/step\n",
      "Epoch 156/300\n",
      "1250/1250 - 4s - loss: 280.4625 - mse: 280.4625 - val_loss: 281.6156 - val_mse: 281.6156 - lr: 0.0100 - 4s/epoch - 3ms/step\n",
      "Epoch 157/300\n",
      "1250/1250 - 4s - loss: 280.1358 - mse: 280.1358 - val_loss: 276.5311 - val_mse: 276.5311 - lr: 0.0100 - 4s/epoch - 3ms/step\n",
      "Epoch 158/300\n",
      "1250/1250 - 4s - loss: 277.0184 - mse: 277.0184 - val_loss: 282.3082 - val_mse: 282.3082 - lr: 0.0100 - 4s/epoch - 3ms/step\n",
      "Epoch 159/300\n",
      "1250/1250 - 4s - loss: 276.3310 - mse: 276.3310 - val_loss: 284.8650 - val_mse: 284.8650 - lr: 0.0100 - 4s/epoch - 3ms/step\n",
      "Epoch 160/300\n",
      "1250/1250 - 4s - loss: 275.7932 - mse: 275.7932 - val_loss: 277.4654 - val_mse: 277.4654 - lr: 0.0100 - 4s/epoch - 3ms/step\n",
      "Epoch 161/300\n",
      "1250/1250 - 4s - loss: 272.6862 - mse: 272.6862 - val_loss: 304.1227 - val_mse: 304.1227 - lr: 0.0100 - 4s/epoch - 3ms/step\n",
      "Epoch 162/300\n",
      "1250/1250 - 4s - loss: 270.3612 - mse: 270.3612 - val_loss: 273.4319 - val_mse: 273.4319 - lr: 0.0100 - 4s/epoch - 3ms/step\n",
      "Epoch 163/300\n",
      "1250/1250 - 4s - loss: 269.2491 - mse: 269.2491 - val_loss: 271.6602 - val_mse: 271.6602 - lr: 0.0100 - 4s/epoch - 3ms/step\n",
      "Epoch 164/300\n",
      "1250/1250 - 4s - loss: 267.9608 - mse: 267.9608 - val_loss: 265.9330 - val_mse: 265.9330 - lr: 0.0100 - 4s/epoch - 3ms/step\n",
      "Epoch 165/300\n",
      "1250/1250 - 4s - loss: 266.4757 - mse: 266.4757 - val_loss: 297.9909 - val_mse: 297.9909 - lr: 0.0100 - 4s/epoch - 3ms/step\n",
      "Epoch 166/300\n",
      "1250/1250 - 4s - loss: 266.7211 - mse: 266.7211 - val_loss: 281.9244 - val_mse: 281.9244 - lr: 0.0100 - 4s/epoch - 3ms/step\n",
      "Epoch 167/300\n",
      "1250/1250 - 4s - loss: 263.9248 - mse: 263.9248 - val_loss: 268.8084 - val_mse: 268.8084 - lr: 0.0100 - 4s/epoch - 3ms/step\n",
      "Epoch 168/300\n",
      "1250/1250 - 4s - loss: 262.2088 - mse: 262.2088 - val_loss: 273.1743 - val_mse: 273.1743 - lr: 0.0100 - 4s/epoch - 3ms/step\n",
      "Epoch 169/300\n",
      "1250/1250 - 4s - loss: 260.8763 - mse: 260.8763 - val_loss: 264.6102 - val_mse: 264.6102 - lr: 0.0100 - 4s/epoch - 3ms/step\n",
      "Epoch 170/300\n",
      "1250/1250 - 4s - loss: 259.4214 - mse: 259.4214 - val_loss: 257.8811 - val_mse: 257.8811 - lr: 0.0100 - 4s/epoch - 3ms/step\n",
      "Epoch 171/300\n",
      "1250/1250 - 4s - loss: 259.9344 - mse: 259.9344 - val_loss: 262.7119 - val_mse: 262.7119 - lr: 0.0100 - 4s/epoch - 3ms/step\n",
      "Epoch 172/300\n",
      "1250/1250 - 4s - loss: 258.6328 - mse: 258.6328 - val_loss: 256.8443 - val_mse: 256.8443 - lr: 0.0100 - 4s/epoch - 3ms/step\n",
      "Epoch 173/300\n",
      "1250/1250 - 4s - loss: 256.9571 - mse: 256.9571 - val_loss: 268.2329 - val_mse: 268.2329 - lr: 0.0100 - 4s/epoch - 3ms/step\n",
      "Epoch 174/300\n",
      "1250/1250 - 4s - loss: 256.4826 - mse: 256.4826 - val_loss: 266.2779 - val_mse: 266.2779 - lr: 0.0100 - 4s/epoch - 3ms/step\n",
      "Epoch 175/300\n",
      "1250/1250 - 4s - loss: 255.0888 - mse: 255.0888 - val_loss: 254.0912 - val_mse: 254.0912 - lr: 0.0100 - 4s/epoch - 3ms/step\n",
      "Epoch 176/300\n",
      "1250/1250 - 4s - loss: 254.0527 - mse: 254.0527 - val_loss: 253.6387 - val_mse: 253.6387 - lr: 0.0100 - 4s/epoch - 3ms/step\n",
      "Epoch 177/300\n",
      "1250/1250 - 4s - loss: 253.7583 - mse: 253.7583 - val_loss: 256.2321 - val_mse: 256.2321 - lr: 0.0100 - 4s/epoch - 3ms/step\n"
     ]
    },
    {
     "name": "stdout",
     "output_type": "stream",
     "text": [
      "Epoch 178/300\n",
      "1250/1250 - 4s - loss: 251.7636 - mse: 251.7636 - val_loss: 260.0312 - val_mse: 260.0312 - lr: 0.0100 - 4s/epoch - 3ms/step\n",
      "Epoch 179/300\n",
      "1250/1250 - 4s - loss: 250.9942 - mse: 250.9942 - val_loss: 250.7883 - val_mse: 250.7883 - lr: 0.0100 - 4s/epoch - 3ms/step\n",
      "Epoch 180/300\n",
      "1250/1250 - 4s - loss: 250.2538 - mse: 250.2538 - val_loss: 289.8398 - val_mse: 289.8398 - lr: 0.0100 - 4s/epoch - 3ms/step\n",
      "Epoch 181/300\n",
      "1250/1250 - 4s - loss: 248.9292 - mse: 248.9292 - val_loss: 256.5995 - val_mse: 256.5995 - lr: 0.0100 - 4s/epoch - 3ms/step\n",
      "Epoch 182/300\n",
      "1250/1250 - 4s - loss: 247.7168 - mse: 247.7168 - val_loss: 248.3056 - val_mse: 248.3056 - lr: 0.0100 - 4s/epoch - 3ms/step\n",
      "Epoch 183/300\n",
      "1250/1250 - 4s - loss: 246.9342 - mse: 246.9342 - val_loss: 260.2282 - val_mse: 260.2282 - lr: 0.0100 - 4s/epoch - 3ms/step\n",
      "Epoch 184/300\n",
      "1250/1250 - 4s - loss: 246.4171 - mse: 246.4171 - val_loss: 244.2395 - val_mse: 244.2395 - lr: 0.0100 - 4s/epoch - 3ms/step\n",
      "Epoch 185/300\n",
      "1250/1250 - 4s - loss: 247.0217 - mse: 247.0217 - val_loss: 259.8225 - val_mse: 259.8225 - lr: 0.0100 - 4s/epoch - 3ms/step\n",
      "Epoch 186/300\n",
      "1250/1250 - 4s - loss: 245.1560 - mse: 245.1560 - val_loss: 241.9426 - val_mse: 241.9426 - lr: 0.0100 - 4s/epoch - 3ms/step\n",
      "Epoch 187/300\n",
      "1250/1250 - 4s - loss: 244.4473 - mse: 244.4473 - val_loss: 241.8084 - val_mse: 241.8084 - lr: 0.0100 - 4s/epoch - 3ms/step\n",
      "Epoch 188/300\n",
      "1250/1250 - 4s - loss: 242.2241 - mse: 242.2241 - val_loss: 244.5814 - val_mse: 244.5814 - lr: 0.0100 - 4s/epoch - 3ms/step\n",
      "Epoch 189/300\n",
      "1250/1250 - 4s - loss: 240.7980 - mse: 240.7980 - val_loss: 239.5459 - val_mse: 239.5459 - lr: 0.0100 - 4s/epoch - 3ms/step\n",
      "Epoch 190/300\n",
      "1250/1250 - 4s - loss: 240.3237 - mse: 240.3237 - val_loss: 240.5757 - val_mse: 240.5757 - lr: 0.0100 - 4s/epoch - 3ms/step\n",
      "Epoch 191/300\n",
      "1250/1250 - 4s - loss: 240.5725 - mse: 240.5725 - val_loss: 238.1151 - val_mse: 238.1151 - lr: 0.0100 - 4s/epoch - 3ms/step\n",
      "Epoch 192/300\n",
      "1250/1250 - 4s - loss: 240.5329 - mse: 240.5329 - val_loss: 238.4410 - val_mse: 238.4410 - lr: 0.0100 - 4s/epoch - 3ms/step\n",
      "Epoch 193/300\n",
      "1250/1250 - 4s - loss: 240.0050 - mse: 240.0050 - val_loss: 252.3295 - val_mse: 252.3295 - lr: 0.0100 - 4s/epoch - 3ms/step\n",
      "Epoch 194/300\n",
      "1250/1250 - 4s - loss: 238.6849 - mse: 238.6849 - val_loss: 235.9162 - val_mse: 235.9162 - lr: 0.0100 - 4s/epoch - 3ms/step\n",
      "Epoch 195/300\n",
      "1250/1250 - 4s - loss: 237.6153 - mse: 237.6153 - val_loss: 234.1998 - val_mse: 234.1998 - lr: 0.0100 - 4s/epoch - 3ms/step\n",
      "Epoch 196/300\n",
      "1250/1250 - 4s - loss: 235.6296 - mse: 235.6296 - val_loss: 235.3112 - val_mse: 235.3112 - lr: 0.0100 - 4s/epoch - 3ms/step\n",
      "Epoch 197/300\n",
      "1250/1250 - 4s - loss: 236.1053 - mse: 236.1053 - val_loss: 232.2676 - val_mse: 232.2676 - lr: 0.0100 - 4s/epoch - 3ms/step\n",
      "Epoch 198/300\n",
      "1250/1250 - 4s - loss: 233.8354 - mse: 233.8354 - val_loss: 237.3743 - val_mse: 237.3743 - lr: 0.0100 - 4s/epoch - 3ms/step\n",
      "Epoch 199/300\n",
      "1250/1250 - 4s - loss: 232.1658 - mse: 232.1658 - val_loss: 236.2814 - val_mse: 236.2814 - lr: 0.0100 - 4s/epoch - 3ms/step\n",
      "Epoch 200/300\n",
      "1250/1250 - 4s - loss: 231.9630 - mse: 231.9630 - val_loss: 235.1848 - val_mse: 235.1848 - lr: 0.0100 - 4s/epoch - 3ms/step\n",
      "Epoch 201/300\n",
      "1250/1250 - 4s - loss: 230.6365 - mse: 230.6365 - val_loss: 228.3749 - val_mse: 228.3749 - lr: 0.0100 - 4s/epoch - 3ms/step\n",
      "Epoch 202/300\n",
      "1250/1250 - 4s - loss: 229.5982 - mse: 229.5982 - val_loss: 227.7384 - val_mse: 227.7384 - lr: 0.0100 - 4s/epoch - 3ms/step\n",
      "Epoch 203/300\n",
      "1250/1250 - 4s - loss: 229.1565 - mse: 229.1565 - val_loss: 230.9361 - val_mse: 230.9361 - lr: 0.0100 - 4s/epoch - 3ms/step\n",
      "Epoch 204/300\n",
      "1250/1250 - 4s - loss: 228.8896 - mse: 228.8896 - val_loss: 232.4965 - val_mse: 232.4965 - lr: 0.0100 - 4s/epoch - 3ms/step\n",
      "Epoch 205/300\n",
      "1250/1250 - 4s - loss: 228.5020 - mse: 228.5020 - val_loss: 234.5088 - val_mse: 234.5088 - lr: 0.0100 - 4s/epoch - 3ms/step\n",
      "Epoch 206/300\n",
      "1250/1250 - 4s - loss: 228.2366 - mse: 228.2366 - val_loss: 227.1501 - val_mse: 227.1501 - lr: 0.0100 - 4s/epoch - 3ms/step\n",
      "Epoch 207/300\n",
      "1250/1250 - 4s - loss: 227.4164 - mse: 227.4164 - val_loss: 227.5841 - val_mse: 227.5841 - lr: 0.0100 - 4s/epoch - 3ms/step\n",
      "Epoch 208/300\n",
      "1250/1250 - 4s - loss: 227.5869 - mse: 227.5869 - val_loss: 226.1087 - val_mse: 226.1087 - lr: 0.0100 - 4s/epoch - 3ms/step\n",
      "Epoch 209/300\n",
      "1250/1250 - 4s - loss: 226.4707 - mse: 226.4707 - val_loss: 225.5605 - val_mse: 225.5605 - lr: 0.0100 - 4s/epoch - 3ms/step\n",
      "Epoch 210/300\n",
      "1250/1250 - 4s - loss: 225.4740 - mse: 225.4740 - val_loss: 224.5389 - val_mse: 224.5389 - lr: 0.0100 - 4s/epoch - 3ms/step\n",
      "Epoch 211/300\n",
      "1250/1250 - 4s - loss: 224.7569 - mse: 224.7569 - val_loss: 221.9261 - val_mse: 221.9261 - lr: 0.0100 - 4s/epoch - 3ms/step\n",
      "Epoch 212/300\n",
      "1250/1250 - 4s - loss: 224.6930 - mse: 224.6930 - val_loss: 221.7282 - val_mse: 221.7282 - lr: 0.0100 - 4s/epoch - 3ms/step\n",
      "Epoch 213/300\n",
      "1250/1250 - 4s - loss: 223.0643 - mse: 223.0643 - val_loss: 221.6354 - val_mse: 221.6354 - lr: 0.0100 - 4s/epoch - 3ms/step\n",
      "Epoch 214/300\n",
      "1250/1250 - 4s - loss: 222.0671 - mse: 222.0671 - val_loss: 220.0094 - val_mse: 220.0094 - lr: 0.0100 - 4s/epoch - 3ms/step\n",
      "Epoch 215/300\n",
      "1250/1250 - 4s - loss: 220.7197 - mse: 220.7197 - val_loss: 231.9162 - val_mse: 231.9162 - lr: 0.0100 - 4s/epoch - 3ms/step\n",
      "Epoch 216/300\n"
     ]
    }
   ],
   "source": [
    "# Treinamento\n",
    "fit_params = {\n",
    "    'model__batch_size': batch_size,\n",
    "    'model__epochs': epochs,\n",
    "    'model__verbose': verbose,\n",
    "    'model__validation_data': (x_teste, y_teste),\n",
    "    'model__shuffle': True,\n",
    "    'model__validation_steps': None,\n",
    "    'model__validation_freq': 1,\n",
    "}\n",
    "\n",
    "grid_result = grid.fit(x_treino, y_treino, **fit_params)"
   ]
  },
  {
   "cell_type": "code",
   "execution_count": null,
   "metadata": {},
   "outputs": [],
   "source": [
    "# summarize results\n",
    "print(\"Best: %f using %s\" % (grid_result.best_score_, grid_result.best_params_))"
   ]
  },
  {
   "cell_type": "code",
   "execution_count": null,
   "metadata": {},
   "outputs": [],
   "source": [
    "pd.DataFrame(grid.cv_results_)"
   ]
  },
  {
   "cell_type": "code",
   "execution_count": null,
   "metadata": {},
   "outputs": [],
   "source": [
    "best_params = grid_result.best_params_"
   ]
  },
  {
   "cell_type": "code",
   "execution_count": null,
   "metadata": {},
   "outputs": [],
   "source": [
    "best_model = grid.best_estimator_"
   ]
  },
  {
   "cell_type": "code",
   "execution_count": null,
   "metadata": {},
   "outputs": [],
   "source": [
    "# Treinamento do melhor modelo por mais épocas\n",
    "\n",
    "fit_params = {\n",
    "    'model__batch_size': batch_size,\n",
    "    'model__epochs': epochs,\n",
    "    'model__verbose': verbose,\n",
    "    'model__validation_data': (x_teste, y_teste),\n",
    "    'model__shuffle': True,\n",
    "    'model__validation_steps': None,\n",
    "    'model__validation_freq': 1,\n",
    "}\n",
    "\n",
    "# add -> abaro\n",
    "best_params\n",
    "\n",
    "\n",
    "grid_result = estimator.fit(x_treino, y_treino, **fit_params)\n",
    "\n",
    "# OU: ...\n",
    "#grid_result = best_model.fit(x_treino, y_treino, **fit_params)"
   ]
  },
  {
   "cell_type": "code",
   "execution_count": null,
   "metadata": {},
   "outputs": [],
   "source": [
    "best_model.predict(np.array([[16, 4]]))"
   ]
  },
  {
   "cell_type": "markdown",
   "metadata": {},
   "source": [
    "## Carregando o Conjunto de dados"
   ]
  },
  {
   "cell_type": "markdown",
   "metadata": {},
   "source": [
    "## Análise Exploratória de Dados"
   ]
  },
  {
   "cell_type": "markdown",
   "metadata": {},
   "source": [
    "### Análise n - XXX"
   ]
  },
  {
   "cell_type": "markdown",
   "metadata": {},
   "source": [
    "## Pré-Processamento de Dados Para Construção de Modelos de Machine Learning"
   ]
  },
  {
   "cell_type": "markdown",
   "metadata": {},
   "source": [
    "### Padronização"
   ]
  },
  {
   "cell_type": "markdown",
   "metadata": {},
   "source": [
    "###  Construção, Treinamento e Avaliação do Modelo 1 com Regressão Linear (Benchmark)"
   ]
  },
  {
   "cell_type": "markdown",
   "metadata": {},
   "source": [
    "### Avaliação do Modelo"
   ]
  },
  {
   "cell_type": "markdown",
   "metadata": {},
   "source": [
    "### Métricas"
   ]
  },
  {
   "cell_type": "markdown",
   "metadata": {},
   "source": [
    "### Resíduos"
   ]
  },
  {
   "cell_type": "markdown",
   "metadata": {},
   "source": [
    "###  Construção, Treinamento e Avaliação do Modelo n com XXX"
   ]
  },
  {
   "cell_type": "markdown",
   "metadata": {},
   "source": [
    "## Seleção do Modelo"
   ]
  },
  {
   "cell_type": "markdown",
   "metadata": {},
   "source": [
    "## Conclusão"
   ]
  },
  {
   "cell_type": "markdown",
   "metadata": {},
   "source": [
    "# Fim"
   ]
  }
 ],
 "metadata": {
  "kernelspec": {
   "display_name": "Python 3 (ipykernel)",
   "language": "python",
   "name": "python3"
  },
  "language_info": {
   "codemirror_mode": {
    "name": "ipython",
    "version": 3
   },
   "file_extension": ".py",
   "mimetype": "text/x-python",
   "name": "python",
   "nbconvert_exporter": "python",
   "pygments_lexer": "ipython3",
   "version": "3.9.12"
  }
 },
 "nbformat": 4,
 "nbformat_minor": 1
}
