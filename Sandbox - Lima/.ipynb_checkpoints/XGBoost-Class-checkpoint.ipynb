{
 "cells": [
  {
   "cell_type": "markdown",
   "metadata": {
    "id": "3BXdX25pqM3w"
   },
   "source": [
    "# <font color='blue'>Data Science Challenge @ ITA 2022</font>\n",
    "# <font color='blue'>Equipe DIOMGIS</font>\n",
    "\n",
    "## <font color='blue'>Fase 1</font>\n",
    "\n",
    "### <font color='blue'>TEMA DO DESAFIO</font>"
   ]
  },
  {
   "cell_type": "markdown",
   "metadata": {
    "id": "7T7FpUtIqM3y"
   },
   "source": [
    "![title](..\\data\\image\\logo.jpeg)"
   ]
  },
  {
   "cell_type": "code",
   "execution_count": 1,
   "metadata": {
    "colab": {
     "base_uri": "https://localhost:8080/"
    },
    "id": "F0ZkkAr_qM3z",
    "outputId": "9c5c457b-5a97-4264-ee0e-bfb7487efa3b"
   },
   "outputs": [
    {
     "name": "stdout",
     "output_type": "stream",
     "text": [
      "Versão da Linguagem Python Usada Neste Jupyter Notebook: 3.9.12\n"
     ]
    }
   ],
   "source": [
    "# Versão da Linguagem Python\n",
    "from platform import python_version\n",
    "print('Versão da Linguagem Python Usada Neste Jupyter Notebook:', python_version())"
   ]
  },
  {
   "cell_type": "code",
   "execution_count": 2,
   "metadata": {
    "colab": {
     "base_uri": "https://localhost:8080/"
    },
    "id": "wTQOJ9OTqM30",
    "outputId": "d98aebee-1da6-4add-9979-62608a82d05a"
   },
   "outputs": [],
   "source": [
    "# Para atualizar um pacote, execute o comando abaixo no terminal ou prompt de comando:\n",
    "# pip install -U nome_pacote\n",
    "\n",
    "# Para instalar a versão exata de um pacote, execute o comando abaixo no terminal ou prompt de comando:\n",
    "#!pip install nome_pacote==versão_desejada\n",
    "\n",
    "# Depois de instalar ou atualizar o pacote, reinicie o jupyter notebook.\n",
    "\n",
    "# Instala o pacote watermark. \n",
    "# Esse pacote é usado para gravar as versões de outros pacotes usados neste jupyter notebook.\n",
    "# !pip install -q -U watermark"
   ]
  },
  {
   "cell_type": "code",
   "execution_count": 3,
   "metadata": {
    "id": "LtPIVZCaqM30"
   },
   "outputs": [],
   "source": [
    "# Bibliotecas e Frameworks\n",
    "\n",
    "import numpy as np\n",
    "import pandas as pd\n",
    "from sklearn.decomposition import PCA\n",
    "from imblearn.over_sampling import SMOTE\n",
    "from sklearn.model_selection import GridSearchCV\n",
    "from sklearn.ensemble import GradientBoostingClassifier\n",
    "import matplotlib.pyplot as plt\n",
    "import seaborn as sns\n",
    "import warnings\n",
    "from time import time\n",
    "from datetime import datetime\n",
    "import os\n",
    "import joblib"
   ]
  },
  {
   "cell_type": "code",
   "execution_count": 4,
   "metadata": {
    "colab": {
     "base_uri": "https://localhost:8080/"
    },
    "id": "rFOvBtroqM31",
    "outputId": "60a2dfb1-bc06-405c-8679-474d47770036"
   },
   "outputs": [
    {
     "name": "stdout",
     "output_type": "stream",
     "text": [
      "Author: Equipe DIOMGIS\n",
      "\n",
      "numpy     : 1.22.3\n",
      "matplotlib: 3.5.1\n",
      "seaborn   : 0.11.2\n",
      "pandas    : 1.4.2\n",
      "\n"
     ]
    }
   ],
   "source": [
    "# Versões dos pacotes usados neste jupyter notebook\n",
    "\n",
    "%reload_ext watermark\n",
    "%watermark -a \"Equipe DIOMGIS\" --iversions"
   ]
  },
  {
   "cell_type": "code",
   "execution_count": 5,
   "metadata": {
    "id": "tXGKSvBxqM31"
   },
   "outputs": [],
   "source": [
    "sns.set_style('whitegrid')\n",
    "%matplotlib inline\n",
    "warnings.filterwarnings(\"ignore\", category=FutureWarning)\n",
    "warnings.filterwarnings(\"ignore\", category=DeprecationWarning)"
   ]
  },
  {
   "cell_type": "code",
   "execution_count": 6,
   "metadata": {
    "id": "0Su5L3igqM31"
   },
   "outputs": [],
   "source": [
    "verbose = 1\n",
    "seed = 25\n",
    "\n",
    "np.random.seed(seed)"
   ]
  },
  {
   "cell_type": "code",
   "execution_count": 7,
   "metadata": {
    "colab": {
     "base_uri": "https://localhost:8080/",
     "height": 265
    },
    "id": "m_VK9YwZqM32",
    "outputId": "6bf78418-8951-4a45-8164-e4cfbb396adb"
   },
   "outputs": [
    {
     "data": {
      "image/png": "[encoded data removed]",
      "text/plain": [
       "<Figure size 432x288 with 1 Axes>"
      ]
     },
     "metadata": {
      "needs_background": "light"
     },
     "output_type": "display_data"
    }
   ],
   "source": [
    "# Dados\n",
    "import pickle\n",
    "\n",
    "with open('data/census.pkl', 'rb') as f:\n",
    "    [x_treino, y_treino, x_teste, y_teste] = pickle.load(f)\n",
    "    \n",
    "sns.countplot(y_treino);"
   ]
  },
  {
   "cell_type": "code",
   "execution_count": 8,
   "metadata": {
    "colab": {
     "base_uri": "https://localhost:8080/",
     "height": 265
    },
    "id": "U535kC2vqM33",
    "outputId": "57ce2877-c621-481a-85df-452138d60ca2"
   },
   "outputs": [
    {
     "data": {
      "image/png": "[encoded data removed]",
      "text/plain": [
       "<Figure size 432x288 with 1 Axes>"
      ]
     },
     "metadata": {
      "needs_background": "light"
     },
     "output_type": "display_data"
    }
   ],
   "source": [
    "# Balanceamento de classes\n",
    "\n",
    "sm = SMOTE(sampling_strategy = 'auto',\n",
    "           random_state = None,\n",
    "           k_neighbors = 5,\n",
    "           n_jobs = None)\n",
    "\n",
    "x_treino, y_treino = sm.fit_resample(x_treino, y_treino)\n",
    "\n",
    "sns.countplot(y_treino);"
   ]
  },
  {
   "cell_type": "code",
   "execution_count": 9,
   "metadata": {
    "id": "NSGWdZ_8qM33"
   },
   "outputs": [],
   "source": [
    "# Parametros fixos de treinamento\n",
    "\n",
    "nKFold = 5\n",
    "nPCA = 108"
   ]
  },
  {
   "cell_type": "code",
   "execution_count": 10,
   "metadata": {
    "colab": {
     "base_uri": "https://localhost:8080/",
     "height": 70
    },
    "id": "uSKuayfbqM33",
    "outputId": "3291cbde-0d66-48e8-95b5-181d3d9b74e7"
   },
   "outputs": [],
   "source": [
    "# Principal Component Analysis\n",
    "\n",
    "reduceDim = PCA(n_components = nPCA,\n",
    "                copy = True,\n",
    "                whiten = False,\n",
    "                svd_solver = 'auto',\n",
    "                tol = 0.0,\n",
    "                iterated_power = 'auto',\n",
    "                n_oversamples = 10,\n",
    "                power_iteration_normalizer = 'auto',\n",
    "                random_state = None)\n",
    "\n",
    "reduceDim.fit(x_treino)\n",
    "\n",
    "x_treino = reduceDim.transform(x_treino)\n",
    "x_teste = reduceDim.transform(x_teste)"
   ]
  },
  {
   "cell_type": "code",
   "execution_count": 11,
   "metadata": {
    "id": "r-Mb8V00qM33"
   },
   "outputs": [],
   "source": [
    "from keras.utils import to_categorical\n",
    "from sklearn.preprocessing import LabelEncoder\n",
    "\n",
    "le = LabelEncoder()\n",
    "y_treino = le.fit_transform(y_treino)\n",
    "y_teste = le.transform(y_teste)"
   ]
  },
  {
   "cell_type": "code",
   "execution_count": 12,
   "metadata": {
    "id": "_jmJU2i5qM34"
   },
   "outputs": [],
   "source": [
    "# Definição dos parametros (GridSearch)\n",
    "\n",
    "params_grid = {\n",
    "               #['log_loss', 'deviance', 'exponencial']\n",
    "              'loss': ['log_loss'],\n",
    "    \n",
    "               # trade-off entre learning_rate e n_estimators\n",
    "              'learning_rate': [0.1],\n",
    "    \n",
    "               # O número de estágios de reforço a serem executados \n",
    "              'n_estimators': [100],\n",
    "    \n",
    "               # A fração de amostras a ser usada para ajustar os alunos de base individuais\n",
    "              'subsample': [1.0],\n",
    "               \n",
    "               # ['friedman_mse', 'squared_error', 'mse'] \n",
    "              'criterion': ['friedman_mse'],\n",
    "    \n",
    "               # O número mínimo de amostras necessárias para dividir um nó interno\n",
    "              'min_samples_split': [2],\n",
    "    \n",
    "               # O número mínimo de amostras necessárias para estar em um nó folha\n",
    "              'min_samples_leaf': [1],\n",
    "    \n",
    "               # A fração ponderada mínima da soma total de pesos necessária para estar em um nó folha\n",
    "              'min_weight_fraction_leaf': [0.0],\n",
    "    \n",
    "               # A profundidade máxima dos estimadores de regressão individuais\n",
    "              'max_depth': [3],\n",
    "    \n",
    "               # Um nó será dividido se esta divisão induzir uma diminuição da impureza maior ou igual a este valor\n",
    "              'min_impurity_decrease': [0.0],\n",
    "    \n",
    "               # Um objeto estimador que é usado para calcular as previsões iniciais\n",
    "              'init': [None],\n",
    "    \n",
    "              # ['auto', 'sqrt', 'log2'], int ou float. O número de recursos a serem considerados ao procurar a melhor divisão\n",
    "              'max_features': [None],\n",
    "    \n",
    "              # [int]. Cultive árvores max_leaf_nodes da melhor maneira possível\n",
    "              'max_leaf_nodes': [None],\n",
    "              \n",
    "              # Quando definido como True, reutilize a solução da chamada anterior para ajustar e adicione\n",
    "              # mais estimadores ao ensemble, caso contrário, apenas apague a solução anterior\n",
    "              'warm_start': [False],\n",
    "    \n",
    "              # A proporção de dados de treinamento a serem reservados como validação\n",
    "              # definida para interrupção antecipada\n",
    "              'validation_fraction': [0.1],\n",
    "    \n",
    "              # usado para decidir se a interrupção antecipada será usada para encerrar\n",
    "              # o treinamento quando a pontuação de validação não estiver melhorando\n",
    "              'n_iter_no_change': [None],\n",
    "    \n",
    "              # Tolerância para a parada antecipada\n",
    "              'tol': [0.0001],\n",
    "    \n",
    "              # Parâmetro de complexidade usado para remoção de complexidade de custo mínimo.\n",
    "              # A subárvore com a maior complexidade de custo que for menor do que ccp_alphaserá escolhida\n",
    "              'ccp_alpha': [0.0]\n",
    "}"
   ]
  },
  {
   "cell_type": "code",
   "execution_count": 13,
   "metadata": {
    "id": "lO_3B6l9qM35"
   },
   "outputs": [],
   "source": [
    "# Grid Search e Cross Validation\n",
    "\n",
    "model = GradientBoostingClassifier(random_state = seed, verbose = verbose)\n",
    "\n",
    "grid = GridSearchCV(estimator = model,\n",
    "                    param_grid = params_grid,\n",
    "                    # scoring = 'accuracy',\n",
    "                    refit = True,\n",
    "                    cv = nKFold,\n",
    "                    return_train_score = False,\n",
    "                    # n_jobs = -2, # \"-2\": mantem 1 processador livre\n",
    "                    # pre_dispatch = '2*n_jobs',\n",
    "                    verbose = verbose)"
   ]
  },
  {
   "cell_type": "code",
   "execution_count": 14,
   "metadata": {
    "id": "BJ5jUp8XqM35"
   },
   "outputs": [
    {
     "data": {
      "text/html": [
       "<style>#sk-container-id-1 {color: black;background-color: white;}#sk-container-id-1 pre{padding: 0;}#sk-container-id-1 div.sk-toggleable {background-color: white;}#sk-container-id-1 label.sk-toggleable__label {cursor: pointer;display: block;width: 100%;margin-bottom: 0;padding: 0.3em;box-sizing: border-box;text-align: center;}#sk-container-id-1 label.sk-toggleable__label-arrow:before {content: \"▸\";float: left;margin-right: 0.25em;color: #696969;}#sk-container-id-1 label.sk-toggleable__label-arrow:hover:before {color: black;}#sk-container-id-1 div.sk-estimator:hover label.sk-toggleable__label-arrow:before {color: black;}#sk-container-id-1 div.sk-toggleable__content {max-height: 0;max-width: 0;overflow: hidden;text-align: left;background-color: #f0f8ff;}#sk-container-id-1 div.sk-toggleable__content pre {margin: 0.2em;color: black;border-radius: 0.25em;background-color: #f0f8ff;}#sk-container-id-1 input.sk-toggleable__control:checked~div.sk-toggleable__content {max-height: 200px;max-width: 100%;overflow: auto;}#sk-container-id-1 input.sk-toggleable__control:checked~label.sk-toggleable__label-arrow:before {content: \"▾\";}#sk-container-id-1 div.sk-estimator input.sk-toggleable__control:checked~label.sk-toggleable__label {background-color: #d4ebff;}#sk-container-id-1 div.sk-label input.sk-toggleable__control:checked~label.sk-toggleable__label {background-color: #d4ebff;}#sk-container-id-1 input.sk-hidden--visually {border: 0;clip: rect(1px 1px 1px 1px);clip: rect(1px, 1px, 1px, 1px);height: 1px;margin: -1px;overflow: hidden;padding: 0;position: absolute;width: 1px;}#sk-container-id-1 div.sk-estimator {font-family: monospace;background-color: #f0f8ff;border: 1px dotted black;border-radius: 0.25em;box-sizing: border-box;margin-bottom: 0.5em;}#sk-container-id-1 div.sk-estimator:hover {background-color: #d4ebff;}#sk-container-id-1 div.sk-parallel-item::after {content: \"\";width: 100%;border-bottom: 1px solid gray;flex-grow: 1;}#sk-container-id-1 div.sk-label:hover label.sk-toggleable__label {background-color: #d4ebff;}#sk-container-id-1 div.sk-serial::before {content: \"\";position: absolute;border-left: 1px solid gray;box-sizing: border-box;top: 0;bottom: 0;left: 50%;z-index: 0;}#sk-container-id-1 div.sk-serial {display: flex;flex-direction: column;align-items: center;background-color: white;padding-right: 0.2em;padding-left: 0.2em;position: relative;}#sk-container-id-1 div.sk-item {position: relative;z-index: 1;}#sk-container-id-1 div.sk-parallel {display: flex;align-items: stretch;justify-content: center;background-color: white;position: relative;}#sk-container-id-1 div.sk-item::before, #sk-container-id-1 div.sk-parallel-item::before {content: \"\";position: absolute;border-left: 1px solid gray;box-sizing: border-box;top: 0;bottom: 0;left: 50%;z-index: -1;}#sk-container-id-1 div.sk-parallel-item {display: flex;flex-direction: column;z-index: 1;position: relative;background-color: white;}#sk-container-id-1 div.sk-parallel-item:first-child::after {align-self: flex-end;width: 50%;}#sk-container-id-1 div.sk-parallel-item:last-child::after {align-self: flex-start;width: 50%;}#sk-container-id-1 div.sk-parallel-item:only-child::after {width: 0;}#sk-container-id-1 div.sk-dashed-wrapped {border: 1px dashed gray;margin: 0 0.4em 0.5em 0.4em;box-sizing: border-box;padding-bottom: 0.4em;background-color: white;}#sk-container-id-1 div.sk-label label {font-family: monospace;font-weight: bold;display: inline-block;line-height: 1.2em;}#sk-container-id-1 div.sk-label-container {text-align: center;}#sk-container-id-1 div.sk-container {/* jupyter's `normalize.less` sets `[hidden] { display: none; }` but bootstrap.min.css set `[hidden] { display: none !important; }` so we also need the `!important` here to be able to override the default hidden behavior on the sphinx rendered scikit-learn.org. See: https://github.com/scikit-learn/scikit-learn/issues/21755 */display: inline-block !important;position: relative;}#sk-container-id-1 div.sk-text-repr-fallback {display: none;}</style><div id=\"sk-container-id-1\" class=\"sk-top-container\"><div class=\"sk-text-repr-fallback\"><pre>GridSearchCV(cv=5,\n",
       "             estimator=GradientBoostingClassifier(random_state=25, verbose=1),\n",
       "             param_grid={&#x27;ccp_alpha&#x27;: [0.0], &#x27;criterion&#x27;: [&#x27;friedman_mse&#x27;],\n",
       "                         &#x27;init&#x27;: [None], &#x27;learning_rate&#x27;: [0.1],\n",
       "                         &#x27;loss&#x27;: [&#x27;log_loss&#x27;], &#x27;max_depth&#x27;: [3],\n",
       "                         &#x27;max_features&#x27;: [None], &#x27;max_leaf_nodes&#x27;: [None],\n",
       "                         &#x27;min_impurity_decrease&#x27;: [0.0],\n",
       "                         &#x27;min_samples_leaf&#x27;: [1], &#x27;min_samples_split&#x27;: [2],\n",
       "                         &#x27;min_weight_fraction_leaf&#x27;: [0.0],\n",
       "                         &#x27;n_estimators&#x27;: [100], &#x27;n_iter_no_change&#x27;: [None],\n",
       "                         &#x27;subsample&#x27;: [1.0], &#x27;tol&#x27;: [0.0001],\n",
       "                         &#x27;validation_fraction&#x27;: [0.1], &#x27;warm_start&#x27;: [False]},\n",
       "             verbose=1)</pre><b>In a Jupyter environment, please rerun this cell to show the HTML representation or trust the notebook. <br />On GitHub, the HTML representation is unable to render, please try loading this page with nbviewer.org.</b></div><div class=\"sk-container\" hidden><div class=\"sk-item sk-dashed-wrapped\"><div class=\"sk-label-container\"><div class=\"sk-label sk-toggleable\"><input class=\"sk-toggleable__control sk-hidden--visually\" id=\"sk-estimator-id-1\" type=\"checkbox\" ><label for=\"sk-estimator-id-1\" class=\"sk-toggleable__label sk-toggleable__label-arrow\">GridSearchCV</label><div class=\"sk-toggleable__content\"><pre>GridSearchCV(cv=5,\n",
       "             estimator=GradientBoostingClassifier(random_state=25, verbose=1),\n",
       "             param_grid={&#x27;ccp_alpha&#x27;: [0.0], &#x27;criterion&#x27;: [&#x27;friedman_mse&#x27;],\n",
       "                         &#x27;init&#x27;: [None], &#x27;learning_rate&#x27;: [0.1],\n",
       "                         &#x27;loss&#x27;: [&#x27;log_loss&#x27;], &#x27;max_depth&#x27;: [3],\n",
       "                         &#x27;max_features&#x27;: [None], &#x27;max_leaf_nodes&#x27;: [None],\n",
       "                         &#x27;min_impurity_decrease&#x27;: [0.0],\n",
       "                         &#x27;min_samples_leaf&#x27;: [1], &#x27;min_samples_split&#x27;: [2],\n",
       "                         &#x27;min_weight_fraction_leaf&#x27;: [0.0],\n",
       "                         &#x27;n_estimators&#x27;: [100], &#x27;n_iter_no_change&#x27;: [None],\n",
       "                         &#x27;subsample&#x27;: [1.0], &#x27;tol&#x27;: [0.0001],\n",
       "                         &#x27;validation_fraction&#x27;: [0.1], &#x27;warm_start&#x27;: [False]},\n",
       "             verbose=1)</pre></div></div></div><div class=\"sk-parallel\"><div class=\"sk-parallel-item\"><div class=\"sk-item\"><div class=\"sk-label-container\"><div class=\"sk-label sk-toggleable\"><input class=\"sk-toggleable__control sk-hidden--visually\" id=\"sk-estimator-id-2\" type=\"checkbox\" ><label for=\"sk-estimator-id-2\" class=\"sk-toggleable__label sk-toggleable__label-arrow\">estimator: GradientBoostingClassifier</label><div class=\"sk-toggleable__content\"><pre>GradientBoostingClassifier(random_state=25, verbose=1)</pre></div></div></div><div class=\"sk-serial\"><div class=\"sk-item\"><div class=\"sk-estimator sk-toggleable\"><input class=\"sk-toggleable__control sk-hidden--visually\" id=\"sk-estimator-id-3\" type=\"checkbox\" ><label for=\"sk-estimator-id-3\" class=\"sk-toggleable__label sk-toggleable__label-arrow\">GradientBoostingClassifier</label><div class=\"sk-toggleable__content\"><pre>GradientBoostingClassifier(random_state=25, verbose=1)</pre></div></div></div></div></div></div></div></div></div></div>"
      ],
      "text/plain": [
       "GridSearchCV(cv=5,\n",
       "             estimator=GradientBoostingClassifier(random_state=25, verbose=1),\n",
       "             param_grid={'ccp_alpha': [0.0], 'criterion': ['friedman_mse'],\n",
       "                         'init': [None], 'learning_rate': [0.1],\n",
       "                         'loss': ['log_loss'], 'max_depth': [3],\n",
       "                         'max_features': [None], 'max_leaf_nodes': [None],\n",
       "                         'min_impurity_decrease': [0.0],\n",
       "                         'min_samples_leaf': [1], 'min_samples_split': [2],\n",
       "                         'min_weight_fraction_leaf': [0.0],\n",
       "                         'n_estimators': [100], 'n_iter_no_change': [None],\n",
       "                         'subsample': [1.0], 'tol': [0.0001],\n",
       "                         'validation_fraction': [0.1], 'warm_start': [False]},\n",
       "             verbose=1)"
      ]
     },
     "execution_count": 14,
     "metadata": {},
     "output_type": "execute_result"
    }
   ],
   "source": [
    "# View grid\n",
    "\n",
    "grid"
   ]
  },
  {
   "cell_type": "code",
   "execution_count": 15,
   "metadata": {
    "colab": {
     "base_uri": "https://localhost:8080/",
     "height": 397
    },
    "id": "NqXQFyUOqM36",
    "outputId": "87b49082-e004-4755-c517-a2cd74bcabfe",
    "scrolled": true
   },
   "outputs": [
    {
     "name": "stdout",
     "output_type": "stream",
     "text": [
      "Fitting 5 folds for each of 1 candidates, totalling 5 fits\n",
      "      Iter       Train Loss   Remaining Time \n",
      "         1           1.3032            1.94m\n",
      "         2           1.2350            1.89m\n",
      "         3           1.1763            1.85m\n",
      "         4           1.1289            1.82m\n",
      "         5           1.0870            1.80m\n",
      "         6           1.0517            1.78m\n",
      "         7           1.0208            1.75m\n",
      "         8           0.9941            1.74m\n",
      "         9           0.9712            1.72m\n",
      "        10           0.9508            1.71m\n",
      "        20           0.8372            1.51m\n",
      "        30           0.7871            1.31m\n",
      "        40           0.7597            1.13m\n",
      "        50           0.7394           56.50s\n",
      "        60           0.7246           45.26s\n",
      "        70           0.7116           33.98s\n",
      "        80           0.7007           22.70s\n",
      "        90           0.6914           11.38s\n",
      "       100           0.6836            0.00s\n",
      "      Iter       Train Loss   Remaining Time \n",
      "         1           1.3032            1.85m\n",
      "         2           1.2350            1.83m\n",
      "         3           1.1765            1.81m\n",
      "         4           1.1276            1.79m\n",
      "         5           1.0865            1.77m\n",
      "         6           1.0522            1.75m\n",
      "         7           1.0220            1.73m\n",
      "         8           0.9958            1.71m\n",
      "         9           0.9733            1.69m\n",
      "        10           0.9534            1.68m\n",
      "        20           0.8411            1.50m\n",
      "        30           0.7945            1.32m\n",
      "        40           0.7667            1.14m\n",
      "        50           0.7486           56.94s\n",
      "        60           0.7329           46.33s\n",
      "        70           0.7200           34.77s\n",
      "        80           0.7095           23.20s\n",
      "        90           0.6998           11.59s\n",
      "       100           0.6920            0.00s\n",
      "      Iter       Train Loss   Remaining Time \n",
      "         1           1.3038            1.87m\n",
      "         2           1.2361            1.84m\n",
      "         3           1.1800            1.83m\n",
      "         4           1.1309            1.83m\n",
      "         5           1.0894            1.82m\n",
      "         6           1.0544            1.81m\n",
      "         7           1.0247            1.78m\n",
      "         8           0.9992            1.76m\n",
      "         9           0.9766            1.75m\n",
      "        10           0.9562            1.74m\n",
      "        20           0.8440            1.55m\n",
      "        30           0.7990            1.36m\n",
      "        40           0.7732            1.16m\n",
      "        50           0.7552           58.03s\n",
      "        60           0.7401           46.34s\n",
      "        70           0.7285           34.81s\n",
      "        80           0.7185           23.22s\n",
      "        90           0.7106           11.62s\n",
      "       100           0.7021            0.00s\n",
      "      Iter       Train Loss   Remaining Time \n",
      "         1           1.3033            1.93m\n",
      "         2           1.2354            1.90m\n",
      "         3           1.1768            1.90m\n",
      "         4           1.1292            1.87m\n",
      "         5           1.0886            1.84m\n",
      "         6           1.0526            1.83m\n",
      "         7           1.0222            1.81m\n",
      "         8           0.9961            1.79m\n",
      "         9           0.9734            1.77m\n",
      "        10           0.9531            1.74m\n",
      "        20           0.8422            1.54m\n",
      "        30           0.7950            1.34m\n",
      "        40           0.7696            1.15m\n",
      "        50           0.7519           57.64s\n",
      "        60           0.7369           46.05s\n",
      "        70           0.7246           34.61s\n",
      "        80           0.7147           23.03s\n",
      "        90           0.7046           11.50s\n",
      "       100           0.6966            0.00s\n",
      "      Iter       Train Loss   Remaining Time \n",
      "         1           1.3038            1.85m\n",
      "         2           1.2343            1.87m\n",
      "         3           1.1770            1.86m\n",
      "         4           1.1295            1.83m\n",
      "         5           1.0885            1.80m\n",
      "         6           1.0534            1.79m\n",
      "         7           1.0238            1.78m\n",
      "         8           0.9974            1.77m\n",
      "         9           0.9749            1.75m\n",
      "        10           0.9551            1.74m\n",
      "        20           0.8433            1.53m\n",
      "        30           0.7969            1.34m\n",
      "        40           0.7711            1.15m\n",
      "        50           0.7516           57.49s\n",
      "        60           0.7378           46.11s\n",
      "        70           0.7255           34.76s\n",
      "        80           0.7156           23.17s\n",
      "        90           0.7067           11.59s\n",
      "       100           0.6991            0.00s\n",
      "      Iter       Train Loss   Remaining Time \n",
      "         1           1.3035            2.40m\n",
      "         2           1.2357            2.38m\n",
      "         3           1.1772            2.34m\n",
      "         4           1.1286            2.31m\n",
      "         5           1.0884            2.28m\n",
      "         6           1.0532            2.27m\n",
      "         7           1.0230            2.26m\n",
      "         8           0.9965            2.25m\n",
      "         9           0.9746            2.23m\n",
      "        10           0.9547            2.21m\n",
      "        20           0.8423            2.01m\n",
      "        30           0.7953            1.75m\n",
      "        40           0.7690            1.50m\n",
      "        50           0.7503            1.24m\n",
      "        60           0.7372           59.50s\n",
      "        70           0.7253           44.59s\n",
      "        80           0.7147           29.73s\n",
      "        90           0.7066           14.87s\n",
      "       100           0.6995            0.00s\n"
     ]
    }
   ],
   "source": [
    "# Treinamento\n",
    "\n",
    "fit_params = {'monitor': None}\n",
    "\n",
    "grid_result = grid.fit(x_treino, y_treino, **fit_params)"
   ]
  },
  {
   "cell_type": "code",
   "execution_count": 16,
   "metadata": {
    "id": "ba71557qqM36",
    "outputId": "88623b52-4155-4fa6-955a-091c7103b63c"
   },
   "outputs": [
    {
     "data": {
      "text/html": [
       "<div>\n",
       "<style scoped>\n",
       "    .dataframe tbody tr th:only-of-type {\n",
       "        vertical-align: middle;\n",
       "    }\n",
       "\n",
       "    .dataframe tbody tr th {\n",
       "        vertical-align: top;\n",
       "    }\n",
       "\n",
       "    .dataframe thead th {\n",
       "        text-align: right;\n",
       "    }\n",
       "</style>\n",
       "<table border=\"1\" class=\"dataframe\">\n",
       "  <thead>\n",
       "    <tr style=\"text-align: right;\">\n",
       "      <th></th>\n",
       "      <th>mean_test_score</th>\n",
       "      <th>mean_fit_time</th>\n",
       "      <th>ccp_alpha</th>\n",
       "      <th>criterion</th>\n",
       "      <th>init</th>\n",
       "      <th>learning_rate</th>\n",
       "      <th>loss</th>\n",
       "      <th>max_depth</th>\n",
       "      <th>max_features</th>\n",
       "      <th>max_leaf_nodes</th>\n",
       "      <th>min_impurity_decrease</th>\n",
       "      <th>min_samples_leaf</th>\n",
       "      <th>min_samples_split</th>\n",
       "      <th>min_weight_fraction_leaf</th>\n",
       "      <th>n_estimators</th>\n",
       "      <th>n_iter_no_change</th>\n",
       "      <th>subsample</th>\n",
       "      <th>tol</th>\n",
       "      <th>validation_fraction</th>\n",
       "      <th>warm_start</th>\n",
       "    </tr>\n",
       "    <tr>\n",
       "      <th>rank_test_score</th>\n",
       "      <th></th>\n",
       "      <th></th>\n",
       "      <th></th>\n",
       "      <th></th>\n",
       "      <th></th>\n",
       "      <th></th>\n",
       "      <th></th>\n",
       "      <th></th>\n",
       "      <th></th>\n",
       "      <th></th>\n",
       "      <th></th>\n",
       "      <th></th>\n",
       "      <th></th>\n",
       "      <th></th>\n",
       "      <th></th>\n",
       "      <th></th>\n",
       "      <th></th>\n",
       "      <th></th>\n",
       "      <th></th>\n",
       "      <th></th>\n",
       "    </tr>\n",
       "  </thead>\n",
       "  <tbody>\n",
       "    <tr>\n",
       "      <th>1</th>\n",
       "      <td>0.836068</td>\n",
       "      <td>115.496128</td>\n",
       "      <td>0.0</td>\n",
       "      <td>friedman_mse</td>\n",
       "      <td>None</td>\n",
       "      <td>0.1</td>\n",
       "      <td>log_loss</td>\n",
       "      <td>3</td>\n",
       "      <td>None</td>\n",
       "      <td>None</td>\n",
       "      <td>0.0</td>\n",
       "      <td>1</td>\n",
       "      <td>2</td>\n",
       "      <td>0.0</td>\n",
       "      <td>100</td>\n",
       "      <td>None</td>\n",
       "      <td>1.0</td>\n",
       "      <td>0.0001</td>\n",
       "      <td>0.1</td>\n",
       "      <td>False</td>\n",
       "    </tr>\n",
       "  </tbody>\n",
       "</table>\n",
       "</div>"
      ],
      "text/plain": [
       "                 mean_test_score  mean_fit_time  ccp_alpha     criterion  \\\n",
       "rank_test_score                                                            \n",
       "1                       0.836068     115.496128        0.0  friedman_mse   \n",
       "\n",
       "                 init  learning_rate      loss  max_depth max_features  \\\n",
       "rank_test_score                                                          \n",
       "1                None            0.1  log_loss          3         None   \n",
       "\n",
       "                max_leaf_nodes  min_impurity_decrease  min_samples_leaf  \\\n",
       "rank_test_score                                                           \n",
       "1                         None                    0.0                 1   \n",
       "\n",
       "                 min_samples_split  min_weight_fraction_leaf  n_estimators  \\\n",
       "rank_test_score                                                              \n",
       "1                                2                       0.0           100   \n",
       "\n",
       "                n_iter_no_change  subsample     tol  validation_fraction  \\\n",
       "rank_test_score                                                            \n",
       "1                           None        1.0  0.0001                  0.1   \n",
       "\n",
       "                 warm_start  \n",
       "rank_test_score              \n",
       "1                     False  "
      ]
     },
     "execution_count": 16,
     "metadata": {},
     "output_type": "execute_result"
    }
   ],
   "source": [
    "# Resultado do SearchGridCV\n",
    "\n",
    "pd.concat([\n",
    "           pd.DataFrame(grid.cv_results_)[['rank_test_score', 'mean_test_score', 'mean_fit_time']],\n",
    "           pd.DataFrame(grid.cv_results_['params'])\n",
    "          ],\n",
    "           axis=1,\n",
    "           join='inner').set_index('rank_test_score').sort_values('rank_test_score')"
   ]
  },
  {
   "cell_type": "code",
   "execution_count": 17,
   "metadata": {
    "id": "GZRXsU7KqM37"
   },
   "outputs": [],
   "source": [
    "best_params = grid.best_params_\n",
    "best_model = grid.best_estimator_"
   ]
  },
  {
   "cell_type": "code",
   "execution_count": 18,
   "metadata": {
    "id": "eoUeuwyyqM37",
    "outputId": "f8ff6783-ae27-4db2-a062-6440ba4f02e5"
   },
   "outputs": [
    {
     "data": {
      "text/plain": [
       "0.8462690826080753"
      ]
     },
     "execution_count": 18,
     "metadata": {},
     "output_type": "execute_result"
    }
   ],
   "source": [
    "best_model.score(x_treino, y_treino)"
   ]
  },
  {
   "cell_type": "code",
   "execution_count": 19,
   "metadata": {
    "id": "JOSEItsJqM37",
    "outputId": "647a705b-234f-4971-c0ee-76bb9df3a9a2"
   },
   "outputs": [
    {
     "data": {
      "text/plain": [
       "0.8022517911975435"
      ]
     },
     "execution_count": 19,
     "metadata": {},
     "output_type": "execute_result"
    }
   ],
   "source": [
    "best_model.score(x_teste, y_teste)"
   ]
  },
  {
   "cell_type": "code",
   "execution_count": 26,
   "metadata": {},
   "outputs": [
    {
     "data": {
      "text/plain": [
       "['bestModel/1665770037.8164032xgboostModel.pkl']"
      ]
     },
     "execution_count": 26,
     "metadata": {},
     "output_type": "execute_result"
    }
   ],
   "source": [
    "joblib.dump(best_model, \"bestModel/{}xgboostModel.pkl\".format(time()))\n"
   ]
  },
  {
   "cell_type": "markdown",
   "metadata": {},
   "source": [
    "### Recuperando Modelo Salvo"
   ]
  },
  {
   "cell_type": "code",
   "execution_count": 30,
   "metadata": {},
   "outputs": [],
   "source": [
    "timeSaved = 1665770037.8164032\n",
    "recoveryModel = joblib.load(\"bestModel/{}xgboostModel.pkl\".format(timeSaved))"
   ]
  },
  {
   "cell_type": "code",
   "execution_count": 31,
   "metadata": {},
   "outputs": [
    {
     "data": {
      "text/plain": [
       "0.8462690826080753"
      ]
     },
     "execution_count": 31,
     "metadata": {},
     "output_type": "execute_result"
    }
   ],
   "source": [
    "recoveryModel.score(x_treino, y_treino)"
   ]
  },
  {
   "cell_type": "code",
   "execution_count": 32,
   "metadata": {},
   "outputs": [
    {
     "data": {
      "text/plain": [
       "0.8022517911975435"
      ]
     },
     "execution_count": 32,
     "metadata": {},
     "output_type": "execute_result"
    }
   ],
   "source": [
    "recoveryModel.score(x_teste, y_teste)"
   ]
  },
  {
   "cell_type": "markdown",
   "metadata": {
    "id": "mZ48LtPWqM37"
   },
   "source": [
    "## Carregando o Conjunto de dados"
   ]
  },
  {
   "cell_type": "markdown",
   "metadata": {
    "id": "cstxBNz1qM37"
   },
   "source": [
    "## Análise Exploratória de Dados"
   ]
  },
  {
   "cell_type": "markdown",
   "metadata": {
    "id": "XbA3tcJgqM37"
   },
   "source": [
    "### Análise n - XXX"
   ]
  },
  {
   "cell_type": "markdown",
   "metadata": {
    "id": "MO6Nhah1qM37"
   },
   "source": [
    "## Pré-Processamento de Dados Para Construção de Modelos de Machine Learning"
   ]
  },
  {
   "cell_type": "markdown",
   "metadata": {
    "id": "ADCXwMP_qM37"
   },
   "source": [
    "### Padronização"
   ]
  },
  {
   "cell_type": "markdown",
   "metadata": {
    "id": "VchtE5lWqM38"
   },
   "source": [
    "###  Construção, Treinamento e Avaliação do Modelo 1 com Regressão Linear (Benchmark)"
   ]
  },
  {
   "cell_type": "markdown",
   "metadata": {
    "id": "Lq9r1q7yqM38"
   },
   "source": [
    "### Avaliação do Modelo"
   ]
  },
  {
   "cell_type": "markdown",
   "metadata": {
    "id": "oHDrgFX0qM38"
   },
   "source": [
    "### Métricas"
   ]
  },
  {
   "cell_type": "markdown",
   "metadata": {
    "id": "KshW4ao2qM38"
   },
   "source": [
    "### Resíduos"
   ]
  },
  {
   "cell_type": "markdown",
   "metadata": {
    "id": "CSs9Uck5qM38"
   },
   "source": [
    "###  Construção, Treinamento e Avaliação do Modelo n com XXX"
   ]
  },
  {
   "cell_type": "markdown",
   "metadata": {
    "id": "Y9YYQjs3qM38"
   },
   "source": [
    "## Seleção do Modelo"
   ]
  },
  {
   "cell_type": "markdown",
   "metadata": {
    "id": "3vNuHHl2qM38"
   },
   "source": [
    "## Conclusão"
   ]
  },
  {
   "cell_type": "markdown",
   "metadata": {
    "id": "BQMTz7Y3qM38"
   },
   "source": [
    "# Fim"
   ]
  }
 ],
 "metadata": {
  "colab": {
   "collapsed_sections": [],
   "provenance": []
  },
  "kernelspec": {
   "display_name": "Python 3 (ipykernel)",
   "language": "python",
   "name": "python3"
  },
  "language_info": {
   "codemirror_mode": {
    "name": "ipython",
    "version": 3
   },
   "file_extension": ".py",
   "mimetype": "text/x-python",
   "name": "python",
   "nbconvert_exporter": "python",
   "pygments_lexer": "ipython3",
   "version": "3.9.12"
  }
 },
 "nbformat": 4,
 "nbformat_minor": 1
}
