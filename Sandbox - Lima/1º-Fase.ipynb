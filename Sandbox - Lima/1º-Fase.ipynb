{
 "cells": [
  {
   "cell_type": "markdown",
   "metadata": {},
   "source": [
    "# <font color='blue'>Data Science Challenge @ ITA 2022</font>\n",
    "# <font color='blue'>Equipe DIOMGIS</font>\n",
    "\n",
    "## <font color='blue'>Fase 1</font>\n",
    "\n",
    "### <font color='blue'>Predição de pregões futuros de ativos que compõem o índice SP500.</font>"
   ]
  },
  {
   "cell_type": "markdown",
   "metadata": {},
   "source": [
    "![title](..\\data\\image\\logo.jpeg)"
   ]
  },
  {
   "cell_type": "code",
   "execution_count": 1,
   "metadata": {},
   "outputs": [
    {
     "name": "stdout",
     "output_type": "stream",
     "text": [
      "Versão da Linguagem Python Usada Neste Jupyter Notebook: 3.9.12\n"
     ]
    }
   ],
   "source": [
    "# Versão da Linguagem Python\n",
    "from platform import python_version\n",
    "print('Versão da Linguagem Python Usada Neste Jupyter Notebook:', python_version())"
   ]
  },
  {
   "cell_type": "code",
   "execution_count": 2,
   "metadata": {},
   "outputs": [],
   "source": [
    "# Para atualizar um pacote, execute o comando abaixo no terminal ou prompt de comando:\n",
    "# pip install -U nome_pacote\n",
    "\n",
    "# Para instalar a versão exata de um pacote, execute o comando abaixo no terminal ou prompt de comando:\n",
    "#!pip install nome_pacote==versão_desejada\n",
    "\n",
    "# Depois de instalar ou atualizar o pacote, reinicie o jupyter notebook.\n",
    "\n",
    "# Instala o pacote watermark. \n",
    "# Esse pacote é usado para gravar as versões de outros pacotes usados neste jupyter notebook.\n",
    "#!pip install -q -U watermark\n",
    "\n",
    "# Instala o pacote tensorboard-plugin-profile. \n",
    "# Esse pacote é usado para incrementar funcioalidades no Tensorboard.\n",
    "#!pip install -U tensorboard-plugin-profile"
   ]
  },
  {
   "cell_type": "code",
   "execution_count": 99,
   "metadata": {},
   "outputs": [],
   "source": [
    "# Bibliotecas e Frameworks\n",
    "\n",
    "import numpy as np\n",
    "import pandas as pd\n",
    "import pandas_datareader.data as web\n",
    "import tensorflow as tf\n",
    "from tensorflow import keras\n",
    "from keras.layers import LSTM, Dense, Dropout\n",
    "from keras.models import Sequential\n",
    "from keras.optimizers import *\n",
    "from keras.callbacks import ModelCheckpoint, TensorBoard, EarlyStopping, ReduceLROnPlateau, LambdaCallback, TerminateOnNaN\n",
    "from keras.wrappers.scikit_learn import KerasRegressor\n",
    "from keras.initializers import GlorotUniform\n",
    "from keras.regularizers import L1L2\n",
    "from tensorboard import notebook\n",
    "from sklearn.preprocessing import StandardScaler\n",
    "from sklearn.model_selection import train_test_split\n",
    "from sklearn.pipeline import Pipeline\n",
    "from sklearn.model_selection import GridSearchCV\n",
    "from sklearn.metrics import mean_squared_error, make_scorer\n",
    "import matplotlib.pyplot as plt\n",
    "import seaborn as sns\n",
    "import warnings\n",
    "from time import time\n",
    "from datetime import datetime\n",
    "import os"
   ]
  },
  {
   "cell_type": "code",
   "execution_count": 100,
   "metadata": {},
   "outputs": [
    {
     "name": "stdout",
     "output_type": "stream",
     "text": [
      "Author: Equipe DIOMGIS\n",
      "\n",
      "pandas_datareader: 0.10.0\n",
      "pandas           : 1.4.2\n",
      "numpy            : 1.22.3\n",
      "keras            : 2.10.0\n",
      "tensorboard      : 2.10.0\n",
      "seaborn          : 0.11.2\n",
      "matplotlib       : 3.5.1\n",
      "tensorflow       : 2.10.0\n",
      "\n"
     ]
    }
   ],
   "source": [
    "# Versões dos pacotes usados neste jupyter notebook\n",
    "\n",
    "%reload_ext watermark\n",
    "%watermark -a \"Equipe DIOMGIS\" --iversions"
   ]
  },
  {
   "cell_type": "code",
   "execution_count": 101,
   "metadata": {},
   "outputs": [],
   "source": [
    "sns.set_style('whitegrid')\n",
    "os.environ['TF_CPP_MIN_LOG_LEVEL'] = '3'\n",
    "%matplotlib inline\n",
    "warnings.filterwarnings(\"ignore\", category=FutureWarning)\n",
    "warnings.filterwarnings(\"ignore\", category=DeprecationWarning)"
   ]
  },
  {
   "cell_type": "code",
   "execution_count": 102,
   "metadata": {},
   "outputs": [],
   "source": [
    "verbose = 2\n",
    "seed = 25\n",
    "\n",
    "np.random.seed(seed)"
   ]
  },
  {
   "cell_type": "code",
   "execution_count": 103,
   "metadata": {},
   "outputs": [
    {
     "name": "stdout",
     "output_type": "stream",
     "text": [
      "Found GPU at: /device:GPU:0\n"
     ]
    }
   ],
   "source": [
    "#Confirma se o TensorFlow pode acessar a GPU\n",
    "\n",
    "device_name = tf.test.gpu_device_name()\n",
    "if not device_name:\n",
    "    raise SystemError('GPU device not found')\n",
    "    \n",
    "print('Found GPU at: {}'.format(device_name))"
   ]
  },
  {
   "cell_type": "code",
   "execution_count": 104,
   "metadata": {},
   "outputs": [
    {
     "name": "stdout",
     "output_type": "stream",
     "text": [
      "Fri Oct 14 18:52:47 2022       \n",
      "+-----------------------------------------------------------------------------+\n",
      "| NVIDIA-SMI 516.94       Driver Version: 516.94       CUDA Version: 11.7     |\n",
      "|-------------------------------+----------------------+----------------------+\n",
      "| GPU  Name            TCC/WDDM | Bus-Id        Disp.A | Volatile Uncorr. ECC |\n",
      "| Fan  Temp  Perf  Pwr:Usage/Cap|         Memory-Usage | GPU-Util  Compute M. |\n",
      "|                               |                      |               MIG M. |\n",
      "|===============================+======================+======================|\n",
      "|   0  NVIDIA GeForce ... WDDM  | 00000000:65:00.0  On |                  N/A |\n",
      "| 40%   28C    P8    12W / 220W |   1406MiB /  8192MiB |      8%      Default |\n",
      "|                               |                      |                  N/A |\n",
      "+-------------------------------+----------------------+----------------------+\n",
      "                                                                               \n",
      "+-----------------------------------------------------------------------------+\n",
      "| Processes:                                                                  |\n",
      "|  GPU   GI   CI        PID   Type   Process name                  GPU Memory |\n",
      "|        ID   ID                                                   Usage      |\n",
      "|=============================================================================|\n",
      "|    0   N/A  N/A       732    C+G   ...perience\\NVIDIA Share.exe    N/A      |\n",
      "|    0   N/A  N/A      1804    C+G   ...ge\\Application\\msedge.exe    N/A      |\n",
      "|    0   N/A  N/A      2592    C+G   ...txyewy\\MiniSearchHost.exe    N/A      |\n",
      "|    0   N/A  N/A      3516    C+G   ...o Webcam\\GoPro Webcam.exe    N/A      |\n",
      "|    0   N/A  N/A      3568    C+G   ...bat\\acrocef_2\\AcroCEF.exe    N/A      |\n",
      "|    0   N/A  N/A      6380    C+G   ...\\app-1.0.9006\\Discord.exe    N/A      |\n",
      "|    0   N/A  N/A      6892    C+G   ...bbwe\\Microsoft.Photos.exe    N/A      |\n",
      "|    0   N/A  N/A      7452    C+G   ...lPanel\\SystemSettings.exe    N/A      |\n",
      "|    0   N/A  N/A      8908    C+G   ...pp-2.2236.10\\WhatsApp.exe    N/A      |\n",
      "|    0   N/A  N/A     12216    C+G   ...e\\PhoneExperienceHost.exe    N/A      |\n",
      "|    0   N/A  N/A     12948    C+G   ...8bbwe\\WindowsTerminal.exe    N/A      |\n",
      "|    0   N/A  N/A     13784    C+G   ...y\\ShellExperienceHost.exe    N/A      |\n",
      "|    0   N/A  N/A     14424    C+G   ...artMenuExperienceHost.exe    N/A      |\n",
      "|    0   N/A  N/A     14448    C+G   ...n1h2txyewy\\SearchHost.exe    N/A      |\n",
      "|    0   N/A  N/A     15244    C+G   C:\\Windows\\explorer.exe         N/A      |\n",
      "|    0   N/A  N/A     16788    C+G   ...in7x64\\steamwebhelper.exe    N/A      |\n",
      "|    0   N/A  N/A     17300    C+G   ...wekyb3d8bbwe\\Video.UI.exe    N/A      |\n",
      "|    0   N/A  N/A     20344    C+G   ...batNotificationClient.exe    N/A      |\n",
      "|    0   N/A  N/A     20628    C+G   ...obeNotificationClient.exe    N/A      |\n",
      "|    0   N/A  N/A     21560    C+G   ...persky VPN 5.7\\ksdeui.exe    N/A      |\n",
      "|    0   N/A  N/A     22980    C+G   ...x64__pc75e8sa7ep4e\\XD.exe    N/A      |\n",
      "|    0   N/A  N/A     23288      C   ...ucas\\anaconda3\\python.exe    N/A      |\n",
      "|    0   N/A  N/A     25024    C+G   ...me\\Application\\chrome.exe    N/A      |\n",
      "|    0   N/A  N/A     27844    C+G   ...icrosoft VS Code\\Code.exe    N/A      |\n",
      "|    0   N/A  N/A     28216    C+G   ...ekyb3d8bbwe\\HxOutlook.exe    N/A      |\n",
      "|    0   N/A  N/A     29316    C+G   ...370.42\\msedgewebview2.exe    N/A      |\n",
      "|    0   N/A  N/A     29416    C+G   ...8bbwe\\WindowsTerminal.exe    N/A      |\n",
      "|    0   N/A  N/A     30040    C+G   ...370.42\\msedgewebview2.exe    N/A      |\n",
      "+-----------------------------------------------------------------------------+\n"
     ]
    }
   ],
   "source": [
    "# Estado da GPU\n",
    "\n",
    "!nvidia-smi"
   ]
  },
  {
   "cell_type": "code",
   "execution_count": 105,
   "metadata": {},
   "outputs": [],
   "source": [
    "\n",
    "ativos = ['A', 'AAL', 'AAP', 'AAPL', 'ABBV', 'ABC', 'ABMD', 'ABT',\n",
    "       'ACN', 'ADBE', 'ADI', 'ADM', 'ADP', 'ADSK', 'AEE', 'AEP', 'AES',\n",
    "       'AFL', 'AIG', 'AIZ', 'AJG', 'AKAM', 'ALB', 'ALGN', 'ALK', 'ALL',\n",
    "       'ALLE', 'AMAT', 'AMCR', 'AMD', 'AME', 'AMGN', 'AMP', 'AMT', 'AMZN',\n",
    "       'ANET', 'ANSS', 'AON', 'AOS', 'APA', 'APD', 'APH', 'APTV', 'ARE',\n",
    "       'ATO', 'ATVI', 'AVB', 'AVGO', 'AVY', 'AWK', 'AXP', 'AZO', 'BA',\n",
    "       'BAC', 'BALL', 'BAX', 'BBWI', 'BBY', 'BDX', 'BEN', 'BF.B', 'BIIB',\n",
    "       'BIO', 'BK', 'BKNG', 'BKR', 'BLK', 'BMY', 'BR', 'BRK.B', 'BRO',\n",
    "       'BSX', 'BWA', 'BXP', 'C', 'CAG', 'CAH', 'CARR', 'CAT', 'CB',\n",
    "       'CBOE', 'CBRE', 'CCI', 'CCL', 'CDAY', 'CDNS', 'CDW', 'CE', 'CEG',\n",
    "       'CF', 'CFG', 'CHD', 'CHRW', 'CHTR', 'CI', 'CINF', 'CL', 'CLX',\n",
    "       'CMA', 'CMCSA', 'CME', 'CMG', 'CMI', 'CMS', 'CNC', 'CNP', 'COF',\n",
    "       'COO', 'COP', 'COST', 'CPB', 'CPRT', 'CPT', 'CRL', 'CRM', 'CSCO',\n",
    "       'CSGP', 'CSX', 'CTAS', 'CTLT', 'CTRA', 'CTSH', 'CTVA', 'CVS',\n",
    "       'CVX', 'CZR', 'D', 'DAL', 'DD', 'DE', 'DFS', 'DG', 'DGX', 'DHI',\n",
    "       'DHR', 'DIS', 'DISH', 'DLR', 'DLTR', 'DOV', 'DOW', 'DPZ', 'DRI',\n",
    "       'DTE', 'DUK', 'DVA', 'DVN', 'DXC', 'DXCM', 'EA', 'EBAY', 'ECL',\n",
    "       'ED', 'EFX', 'EIX', 'EL', 'ELV', 'EMN', 'EMR', 'ENPH', 'EOG',\n",
    "       'EPAM', 'EQIX', 'EQR', 'EQT', 'ES', 'ESS', 'ETN', 'ETR', 'ETSY',\n",
    "       'EVRG', 'EW', 'EXC', 'EXPD', 'EXPE', 'EXR', 'F', 'FANG', 'FAST',\n",
    "       'FBHS', 'FCX', 'FDS', 'FDX', 'FE', 'FFIV', 'FIS', 'FISV', 'FITB',\n",
    "       'FLT', 'FMC', 'FOX', 'FOXA', 'FRC', 'FRT', 'FTNT', 'FTV', 'GD',\n",
    "       'GE', 'GILD', 'GIS', 'GL', 'GLW', 'GM', 'GNRC', 'GOOG', 'GOOGL',\n",
    "       'GPC', 'GPN', 'GRMN', 'GS', 'GWW', 'HAL', 'HAS', 'HBAN', 'HCA',\n",
    "       'HD', 'HES', 'HIG', 'HII', 'HLT', 'HOLX', 'HON', 'HPE', 'HPQ',\n",
    "       'HRL', 'HSIC', 'HST', 'HSY', 'HUM', 'HWM', 'IBM', 'ICE', 'IDXX',\n",
    "       'IEX', 'IFF', 'ILMN', 'INCY', 'INTC', 'INTU', 'INVH', 'IP', 'IPG',\n",
    "       'IQV', 'IR', 'IRM', 'ISRG', 'IT', 'ITW', 'IVZ', 'J', 'JBHT', 'JCI',\n",
    "       'JKHY', 'JNJ', 'JNPR', 'JPM', 'K', 'KDP', 'KEY', 'KEYS', 'KHC',\n",
    "       'KIM', 'KLAC', 'KMB', 'KMI', 'KMX', 'KO', 'KR', 'L', 'LDOS', 'LEN',\n",
    "       'LH', 'LHX', 'LIN', 'LKQ', 'LLY', 'LMT', 'LNC', 'LNT', 'LOW',\n",
    "       'LRCX', 'LUMN', 'LUV', 'LVS', 'LW', 'LYB', 'LYV', 'MA', 'MAA',\n",
    "       'MAR', 'MAS', 'MCD', 'MCHP', 'MCK', 'MCO', 'MDLZ', 'MDT', 'MET',\n",
    "       'META', 'MGM', 'MHK', 'MKC', 'MKTX', 'MLM', 'MMC', 'MMM', 'MNST',\n",
    "       'MO', 'MOH', 'MOS', 'MPC', 'MPWR', 'MRK', 'MRNA', 'MRO', 'MS',\n",
    "       'MSCI', 'MSFT', 'MSI', 'MTB', 'MTCH', 'MTD', 'MU', 'NCLH', 'NDAQ',\n",
    "       'NDSN', 'NEE', 'NEM', 'NFLX', 'NI', 'NKE', 'NLOK', 'NLSN', 'NOC',\n",
    "       'NOW', 'NRG', 'NSC', 'NTAP', 'NTRS', 'NUE', 'NVDA', 'NVR', 'NWL',\n",
    "       'NWS', 'NWSA', 'NXPI', 'O', 'ODFL', 'OGN', 'OKE', 'OMC', 'ON',\n",
    "       'ORCL', 'ORLY', 'OTIS', 'OXY', 'PARA', 'PAYC', 'PAYX', 'PCAR',\n",
    "       'PCG', 'PEAK', 'PEG', 'PEP', 'PFE', 'PFG', 'PG', 'PGR', 'PH',\n",
    "       'PHM', 'PKG', 'PKI', 'PLD', 'PM', 'PNC', 'PNR', 'PNW', 'POOL',\n",
    "       'PPG', 'PPL', 'PRU', 'PSA', 'PSX', 'PTC', 'PWR', 'PXD', 'PYPL',\n",
    "       'QCOM', 'QRVO', 'RCL', 'RE', 'REG', 'REGN', 'RF', 'RHI', 'RJF',\n",
    "       'RL', 'RMD', 'ROK', 'ROL', 'ROP', 'ROST', 'RSG', 'RTX', 'SBAC',\n",
    "       'SBNY', 'SBUX', 'SCHW', 'SEDG', 'SEE', 'SHW', 'SIVB', 'SJM', 'SLB',\n",
    "       'SNA', 'SNPS', 'SO', 'SPG', 'SPGI', 'SRE', 'STE', 'STT', 'STX',\n",
    "       'STZ', 'SWK', 'SWKS', 'SYF', 'SYK', 'SYY', 'T', 'TAP', 'TDG',\n",
    "       'TDY', 'TECH', 'TEL', 'TER', 'TFC', 'TFX', 'TGT', 'TJX', 'TMO',\n",
    "       'TMUS', 'TPR', 'TRMB', 'TROW', 'TRV', 'TSCO', 'TSLA', 'TSN', 'TT',\n",
    "       'TTWO', 'TWTR', 'TXN', 'TXT', 'TYL', 'UAL', 'UDR', 'UHS', 'ULTA',\n",
    "       'UNH', 'UNP', 'UPS', 'URI', 'USB', 'V', 'VFC', 'VICI', 'VLO',\n",
    "       'VMC', 'VNO', 'VRSK', 'VRSN', 'VRTX', 'VTR', 'VTRS', 'VZ', 'WAB',\n",
    "       'WAT', 'WBA', 'WBD', 'WDC', 'WEC', 'WELL', 'WFC', 'WHR', 'WM',\n",
    "       'WMB', 'WMT', 'WRB', 'WRK', 'WST', 'WTW', 'WY', 'WYNN', 'XEL',\n",
    "       'XOM', 'XRAY', 'XYL', 'YUM', 'ZBH', 'ZBRA', 'ZION', 'ZTS']"
   ]
  },
  {
   "cell_type": "code",
   "execution_count": 106,
   "metadata": {},
   "outputs": [
    {
     "data": {
      "text/plain": [
       "503"
      ]
     },
     "execution_count": 106,
     "metadata": {},
     "output_type": "execute_result"
    }
   ],
   "source": [
    "len(ativos)"
   ]
  },
  {
   "cell_type": "code",
   "execution_count": null,
   "metadata": {},
   "outputs": [],
   "source": [
    "start_date = \"2017-10-21\"\n",
    "end_date = \"2022-10-21\"\n",
    "\n",
    "SP500_close = pd.DataFrame()\n",
    "\n",
    "for ativo in ativos:\n",
    "    temp_close = pd.DataFrame()\n",
    "    data = web.DataReader(name=ativos[0], data_source='yahoo', start=start_date, end=end_date)\n",
    "    # print(data['close'])\n",
    "    temp_close = pd.DataFrame(data['Close'])\n",
    "    SP500_close = pd.concat([SP500_close, temp_close], axis = 1)\n",
    "    "
   ]
  },
  {
   "cell_type": "code",
   "execution_count": null,
   "metadata": {},
   "outputs": [],
   "source": [
    "SP500_close"
   ]
  },
  {
   "cell_type": "code",
   "execution_count": null,
   "metadata": {},
   "outputs": [],
   "source": [
    "SP500_close.to_csv(path_or_buf = 'data/SP500_close', index = True)"
   ]
  },
  {
   "cell_type": "code",
   "execution_count": null,
   "metadata": {},
   "outputs": [],
   "source": [
    "SP500_close = pd.read_csv('data/SP500_close')"
   ]
  },
  {
   "cell_type": "code",
   "execution_count": null,
   "metadata": {},
   "outputs": [],
   "source": [
    "SP500_close.columns = ['Dia'] + ativos"
   ]
  },
  {
   "cell_type": "code",
   "execution_count": null,
   "metadata": {},
   "outputs": [],
   "source": [
    "SP500_close"
   ]
  },
  {
   "cell_type": "code",
   "execution_count": 107,
   "metadata": {},
   "outputs": [],
   "source": [
    "start_date = \"2017-10-21\"\n",
    "end_date = \"2022-10-21\"\n",
    "\n",
    "data = web.DataReader(name='^GSPC', data_source='yahoo', start=start_date, end=end_date)\n",
    "SP500_index = pd.DataFrame(data['Close'])"
   ]
  },
  {
   "cell_type": "code",
   "execution_count": 108,
   "metadata": {},
   "outputs": [],
   "source": [
    "steps = 100"
   ]
  },
  {
   "cell_type": "code",
   "execution_count": 109,
   "metadata": {},
   "outputs": [],
   "source": [
    "nameColumns = []\n",
    "\n",
    "for i in range(steps,-1,-1):\n",
    "    nameColumns.append('Close-{}'.format(i))"
   ]
  },
  {
   "cell_type": "code",
   "execution_count": 110,
   "metadata": {},
   "outputs": [],
   "source": [
    "data = pd.DataFrame(np.zeros((len(SP500_index)-steps, steps+1), dtype='float64'), columns=nameColumns)"
   ]
  },
  {
   "cell_type": "code",
   "execution_count": 111,
   "metadata": {},
   "outputs": [],
   "source": [
    "for index, close in enumerate(temp.iloc[:,0]):\n",
    "    tempA = index\n",
    "    tempB = 0\n",
    "    for i in range(steps+1):\n",
    "        if tempA < len(SP500_index)-steps and tempA >=0:\n",
    "            data.iloc[tempA, tempB] = close\n",
    "            \n",
    "        tempA -= 1\n",
    "        tempB += 1"
   ]
  },
  {
   "cell_type": "code",
   "execution_count": 112,
   "metadata": {},
   "outputs": [],
   "source": [
    "timeIndex = SP500_index.index[steps:]"
   ]
  },
  {
   "cell_type": "code",
   "execution_count": 113,
   "metadata": {},
   "outputs": [],
   "source": [
    "data[\"Dia\"] = timeIndex"
   ]
  },
  {
   "cell_type": "code",
   "execution_count": 114,
   "metadata": {},
   "outputs": [],
   "source": [
    "data.set_index(\"Dia\", inplace = True)"
   ]
  },
  {
   "cell_type": "code",
   "execution_count": 115,
   "metadata": {},
   "outputs": [
    {
     "data": {
      "text/html": [
       "<div>\n",
       "<style scoped>\n",
       "    .dataframe tbody tr th:only-of-type {\n",
       "        vertical-align: middle;\n",
       "    }\n",
       "\n",
       "    .dataframe tbody tr th {\n",
       "        vertical-align: top;\n",
       "    }\n",
       "\n",
       "    .dataframe thead th {\n",
       "        text-align: right;\n",
       "    }\n",
       "</style>\n",
       "<table border=\"1\" class=\"dataframe\">\n",
       "  <thead>\n",
       "    <tr style=\"text-align: right;\">\n",
       "      <th></th>\n",
       "      <th>Close-100</th>\n",
       "      <th>Close-99</th>\n",
       "      <th>Close-98</th>\n",
       "      <th>Close-97</th>\n",
       "      <th>Close-96</th>\n",
       "      <th>Close-95</th>\n",
       "      <th>Close-94</th>\n",
       "      <th>Close-93</th>\n",
       "      <th>Close-92</th>\n",
       "      <th>Close-91</th>\n",
       "      <th>...</th>\n",
       "      <th>Close-9</th>\n",
       "      <th>Close-8</th>\n",
       "      <th>Close-7</th>\n",
       "      <th>Close-6</th>\n",
       "      <th>Close-5</th>\n",
       "      <th>Close-4</th>\n",
       "      <th>Close-3</th>\n",
       "      <th>Close-2</th>\n",
       "      <th>Close-1</th>\n",
       "      <th>Close-0</th>\n",
       "    </tr>\n",
       "    <tr>\n",
       "      <th>Dia</th>\n",
       "      <th></th>\n",
       "      <th></th>\n",
       "      <th></th>\n",
       "      <th></th>\n",
       "      <th></th>\n",
       "      <th></th>\n",
       "      <th></th>\n",
       "      <th></th>\n",
       "      <th></th>\n",
       "      <th></th>\n",
       "      <th></th>\n",
       "      <th></th>\n",
       "      <th></th>\n",
       "      <th></th>\n",
       "      <th></th>\n",
       "      <th></th>\n",
       "      <th></th>\n",
       "      <th></th>\n",
       "      <th></th>\n",
       "      <th></th>\n",
       "      <th></th>\n",
       "    </tr>\n",
       "  </thead>\n",
       "  <tbody>\n",
       "    <tr>\n",
       "      <th>2018-03-19</th>\n",
       "      <td>2564.979980</td>\n",
       "      <td>2569.129883</td>\n",
       "      <td>2557.149902</td>\n",
       "      <td>2560.399902</td>\n",
       "      <td>2581.070068</td>\n",
       "      <td>2572.830078</td>\n",
       "      <td>2575.260010</td>\n",
       "      <td>2579.360107</td>\n",
       "      <td>2579.850098</td>\n",
       "      <td>2587.840088</td>\n",
       "      <td>...</td>\n",
       "      <td>2728.120117</td>\n",
       "      <td>2726.800049</td>\n",
       "      <td>2738.969971</td>\n",
       "      <td>2786.570068</td>\n",
       "      <td>2783.020020</td>\n",
       "      <td>2765.310059</td>\n",
       "      <td>2749.479980</td>\n",
       "      <td>2747.330078</td>\n",
       "      <td>2752.010010</td>\n",
       "      <td>2712.919922</td>\n",
       "    </tr>\n",
       "    <tr>\n",
       "      <th>2018-03-20</th>\n",
       "      <td>2569.129883</td>\n",
       "      <td>2557.149902</td>\n",
       "      <td>2560.399902</td>\n",
       "      <td>2581.070068</td>\n",
       "      <td>2572.830078</td>\n",
       "      <td>2575.260010</td>\n",
       "      <td>2579.360107</td>\n",
       "      <td>2579.850098</td>\n",
       "      <td>2587.840088</td>\n",
       "      <td>2591.129883</td>\n",
       "      <td>...</td>\n",
       "      <td>2726.800049</td>\n",
       "      <td>2738.969971</td>\n",
       "      <td>2786.570068</td>\n",
       "      <td>2783.020020</td>\n",
       "      <td>2765.310059</td>\n",
       "      <td>2749.479980</td>\n",
       "      <td>2747.330078</td>\n",
       "      <td>2752.010010</td>\n",
       "      <td>2712.919922</td>\n",
       "      <td>2716.939941</td>\n",
       "    </tr>\n",
       "    <tr>\n",
       "      <th>2018-03-21</th>\n",
       "      <td>2557.149902</td>\n",
       "      <td>2560.399902</td>\n",
       "      <td>2581.070068</td>\n",
       "      <td>2572.830078</td>\n",
       "      <td>2575.260010</td>\n",
       "      <td>2579.360107</td>\n",
       "      <td>2579.850098</td>\n",
       "      <td>2587.840088</td>\n",
       "      <td>2591.129883</td>\n",
       "      <td>2590.639893</td>\n",
       "      <td>...</td>\n",
       "      <td>2738.969971</td>\n",
       "      <td>2786.570068</td>\n",
       "      <td>2783.020020</td>\n",
       "      <td>2765.310059</td>\n",
       "      <td>2749.479980</td>\n",
       "      <td>2747.330078</td>\n",
       "      <td>2752.010010</td>\n",
       "      <td>2712.919922</td>\n",
       "      <td>2716.939941</td>\n",
       "      <td>2711.929932</td>\n",
       "    </tr>\n",
       "    <tr>\n",
       "      <th>2018-03-22</th>\n",
       "      <td>2560.399902</td>\n",
       "      <td>2581.070068</td>\n",
       "      <td>2572.830078</td>\n",
       "      <td>2575.260010</td>\n",
       "      <td>2579.360107</td>\n",
       "      <td>2579.850098</td>\n",
       "      <td>2587.840088</td>\n",
       "      <td>2591.129883</td>\n",
       "      <td>2590.639893</td>\n",
       "      <td>2594.379883</td>\n",
       "      <td>...</td>\n",
       "      <td>2786.570068</td>\n",
       "      <td>2783.020020</td>\n",
       "      <td>2765.310059</td>\n",
       "      <td>2749.479980</td>\n",
       "      <td>2747.330078</td>\n",
       "      <td>2752.010010</td>\n",
       "      <td>2712.919922</td>\n",
       "      <td>2716.939941</td>\n",
       "      <td>2711.929932</td>\n",
       "      <td>2643.689941</td>\n",
       "    </tr>\n",
       "    <tr>\n",
       "      <th>2018-03-23</th>\n",
       "      <td>2581.070068</td>\n",
       "      <td>2572.830078</td>\n",
       "      <td>2575.260010</td>\n",
       "      <td>2579.360107</td>\n",
       "      <td>2579.850098</td>\n",
       "      <td>2587.840088</td>\n",
       "      <td>2591.129883</td>\n",
       "      <td>2590.639893</td>\n",
       "      <td>2594.379883</td>\n",
       "      <td>2584.620117</td>\n",
       "      <td>...</td>\n",
       "      <td>2783.020020</td>\n",
       "      <td>2765.310059</td>\n",
       "      <td>2749.479980</td>\n",
       "      <td>2747.330078</td>\n",
       "      <td>2752.010010</td>\n",
       "      <td>2712.919922</td>\n",
       "      <td>2716.939941</td>\n",
       "      <td>2711.929932</td>\n",
       "      <td>2643.689941</td>\n",
       "      <td>2588.260010</td>\n",
       "    </tr>\n",
       "    <tr>\n",
       "      <th>...</th>\n",
       "      <td>...</td>\n",
       "      <td>...</td>\n",
       "      <td>...</td>\n",
       "      <td>...</td>\n",
       "      <td>...</td>\n",
       "      <td>...</td>\n",
       "      <td>...</td>\n",
       "      <td>...</td>\n",
       "      <td>...</td>\n",
       "      <td>...</td>\n",
       "      <td>...</td>\n",
       "      <td>...</td>\n",
       "      <td>...</td>\n",
       "      <td>...</td>\n",
       "      <td>...</td>\n",
       "      <td>...</td>\n",
       "      <td>...</td>\n",
       "      <td>...</td>\n",
       "      <td>...</td>\n",
       "      <td>...</td>\n",
       "      <td>...</td>\n",
       "    </tr>\n",
       "    <tr>\n",
       "      <th>2022-10-10</th>\n",
       "      <td>4088.850098</td>\n",
       "      <td>3923.679932</td>\n",
       "      <td>3900.790039</td>\n",
       "      <td>3901.360107</td>\n",
       "      <td>3973.750000</td>\n",
       "      <td>3941.479980</td>\n",
       "      <td>3978.729980</td>\n",
       "      <td>4057.840088</td>\n",
       "      <td>4158.240234</td>\n",
       "      <td>4132.149902</td>\n",
       "      <td>...</td>\n",
       "      <td>3647.290039</td>\n",
       "      <td>3719.040039</td>\n",
       "      <td>3640.469971</td>\n",
       "      <td>3585.620117</td>\n",
       "      <td>3678.429932</td>\n",
       "      <td>3790.929932</td>\n",
       "      <td>3783.280029</td>\n",
       "      <td>3744.520020</td>\n",
       "      <td>3639.659912</td>\n",
       "      <td>3612.389893</td>\n",
       "    </tr>\n",
       "    <tr>\n",
       "      <th>2022-10-11</th>\n",
       "      <td>3923.679932</td>\n",
       "      <td>3900.790039</td>\n",
       "      <td>3901.360107</td>\n",
       "      <td>3973.750000</td>\n",
       "      <td>3941.479980</td>\n",
       "      <td>3978.729980</td>\n",
       "      <td>4057.840088</td>\n",
       "      <td>4158.240234</td>\n",
       "      <td>4132.149902</td>\n",
       "      <td>4101.229980</td>\n",
       "      <td>...</td>\n",
       "      <td>3719.040039</td>\n",
       "      <td>3640.469971</td>\n",
       "      <td>3585.620117</td>\n",
       "      <td>3678.429932</td>\n",
       "      <td>3790.929932</td>\n",
       "      <td>3783.280029</td>\n",
       "      <td>3744.520020</td>\n",
       "      <td>3639.659912</td>\n",
       "      <td>3612.389893</td>\n",
       "      <td>3588.840088</td>\n",
       "    </tr>\n",
       "    <tr>\n",
       "      <th>2022-10-12</th>\n",
       "      <td>3900.790039</td>\n",
       "      <td>3901.360107</td>\n",
       "      <td>3973.750000</td>\n",
       "      <td>3941.479980</td>\n",
       "      <td>3978.729980</td>\n",
       "      <td>4057.840088</td>\n",
       "      <td>4158.240234</td>\n",
       "      <td>4132.149902</td>\n",
       "      <td>4101.229980</td>\n",
       "      <td>4176.819824</td>\n",
       "      <td>...</td>\n",
       "      <td>3640.469971</td>\n",
       "      <td>3585.620117</td>\n",
       "      <td>3678.429932</td>\n",
       "      <td>3790.929932</td>\n",
       "      <td>3783.280029</td>\n",
       "      <td>3744.520020</td>\n",
       "      <td>3639.659912</td>\n",
       "      <td>3612.389893</td>\n",
       "      <td>3588.840088</td>\n",
       "      <td>3577.030029</td>\n",
       "    </tr>\n",
       "    <tr>\n",
       "      <th>2022-10-13</th>\n",
       "      <td>3901.360107</td>\n",
       "      <td>3973.750000</td>\n",
       "      <td>3941.479980</td>\n",
       "      <td>3978.729980</td>\n",
       "      <td>4057.840088</td>\n",
       "      <td>4158.240234</td>\n",
       "      <td>4132.149902</td>\n",
       "      <td>4101.229980</td>\n",
       "      <td>4176.819824</td>\n",
       "      <td>4108.540039</td>\n",
       "      <td>...</td>\n",
       "      <td>3585.620117</td>\n",
       "      <td>3678.429932</td>\n",
       "      <td>3790.929932</td>\n",
       "      <td>3783.280029</td>\n",
       "      <td>3744.520020</td>\n",
       "      <td>3639.659912</td>\n",
       "      <td>3612.389893</td>\n",
       "      <td>3588.840088</td>\n",
       "      <td>3577.030029</td>\n",
       "      <td>3669.909912</td>\n",
       "    </tr>\n",
       "    <tr>\n",
       "      <th>2022-10-14</th>\n",
       "      <td>3973.750000</td>\n",
       "      <td>3941.479980</td>\n",
       "      <td>3978.729980</td>\n",
       "      <td>4057.840088</td>\n",
       "      <td>4158.240234</td>\n",
       "      <td>4132.149902</td>\n",
       "      <td>4101.229980</td>\n",
       "      <td>4176.819824</td>\n",
       "      <td>4108.540039</td>\n",
       "      <td>4121.430176</td>\n",
       "      <td>...</td>\n",
       "      <td>3678.429932</td>\n",
       "      <td>3790.929932</td>\n",
       "      <td>3783.280029</td>\n",
       "      <td>3744.520020</td>\n",
       "      <td>3639.659912</td>\n",
       "      <td>3612.389893</td>\n",
       "      <td>3588.840088</td>\n",
       "      <td>3577.030029</td>\n",
       "      <td>3669.909912</td>\n",
       "      <td>3583.070068</td>\n",
       "    </tr>\n",
       "  </tbody>\n",
       "</table>\n",
       "<p>1154 rows × 101 columns</p>\n",
       "</div>"
      ],
      "text/plain": [
       "              Close-100     Close-99     Close-98     Close-97     Close-96  \\\n",
       "Dia                                                                           \n",
       "2018-03-19  2564.979980  2569.129883  2557.149902  2560.399902  2581.070068   \n",
       "2018-03-20  2569.129883  2557.149902  2560.399902  2581.070068  2572.830078   \n",
       "2018-03-21  2557.149902  2560.399902  2581.070068  2572.830078  2575.260010   \n",
       "2018-03-22  2560.399902  2581.070068  2572.830078  2575.260010  2579.360107   \n",
       "2018-03-23  2581.070068  2572.830078  2575.260010  2579.360107  2579.850098   \n",
       "...                 ...          ...          ...          ...          ...   \n",
       "2022-10-10  4088.850098  3923.679932  3900.790039  3901.360107  3973.750000   \n",
       "2022-10-11  3923.679932  3900.790039  3901.360107  3973.750000  3941.479980   \n",
       "2022-10-12  3900.790039  3901.360107  3973.750000  3941.479980  3978.729980   \n",
       "2022-10-13  3901.360107  3973.750000  3941.479980  3978.729980  4057.840088   \n",
       "2022-10-14  3973.750000  3941.479980  3978.729980  4057.840088  4158.240234   \n",
       "\n",
       "               Close-95     Close-94     Close-93     Close-92     Close-91  \\\n",
       "Dia                                                                           \n",
       "2018-03-19  2572.830078  2575.260010  2579.360107  2579.850098  2587.840088   \n",
       "2018-03-20  2575.260010  2579.360107  2579.850098  2587.840088  2591.129883   \n",
       "2018-03-21  2579.360107  2579.850098  2587.840088  2591.129883  2590.639893   \n",
       "2018-03-22  2579.850098  2587.840088  2591.129883  2590.639893  2594.379883   \n",
       "2018-03-23  2587.840088  2591.129883  2590.639893  2594.379883  2584.620117   \n",
       "...                 ...          ...          ...          ...          ...   \n",
       "2022-10-10  3941.479980  3978.729980  4057.840088  4158.240234  4132.149902   \n",
       "2022-10-11  3978.729980  4057.840088  4158.240234  4132.149902  4101.229980   \n",
       "2022-10-12  4057.840088  4158.240234  4132.149902  4101.229980  4176.819824   \n",
       "2022-10-13  4158.240234  4132.149902  4101.229980  4176.819824  4108.540039   \n",
       "2022-10-14  4132.149902  4101.229980  4176.819824  4108.540039  4121.430176   \n",
       "\n",
       "            ...      Close-9      Close-8      Close-7      Close-6  \\\n",
       "Dia         ...                                                       \n",
       "2018-03-19  ...  2728.120117  2726.800049  2738.969971  2786.570068   \n",
       "2018-03-20  ...  2726.800049  2738.969971  2786.570068  2783.020020   \n",
       "2018-03-21  ...  2738.969971  2786.570068  2783.020020  2765.310059   \n",
       "2018-03-22  ...  2786.570068  2783.020020  2765.310059  2749.479980   \n",
       "2018-03-23  ...  2783.020020  2765.310059  2749.479980  2747.330078   \n",
       "...         ...          ...          ...          ...          ...   \n",
       "2022-10-10  ...  3647.290039  3719.040039  3640.469971  3585.620117   \n",
       "2022-10-11  ...  3719.040039  3640.469971  3585.620117  3678.429932   \n",
       "2022-10-12  ...  3640.469971  3585.620117  3678.429932  3790.929932   \n",
       "2022-10-13  ...  3585.620117  3678.429932  3790.929932  3783.280029   \n",
       "2022-10-14  ...  3678.429932  3790.929932  3783.280029  3744.520020   \n",
       "\n",
       "                Close-5      Close-4      Close-3      Close-2      Close-1  \\\n",
       "Dia                                                                           \n",
       "2018-03-19  2783.020020  2765.310059  2749.479980  2747.330078  2752.010010   \n",
       "2018-03-20  2765.310059  2749.479980  2747.330078  2752.010010  2712.919922   \n",
       "2018-03-21  2749.479980  2747.330078  2752.010010  2712.919922  2716.939941   \n",
       "2018-03-22  2747.330078  2752.010010  2712.919922  2716.939941  2711.929932   \n",
       "2018-03-23  2752.010010  2712.919922  2716.939941  2711.929932  2643.689941   \n",
       "...                 ...          ...          ...          ...          ...   \n",
       "2022-10-10  3678.429932  3790.929932  3783.280029  3744.520020  3639.659912   \n",
       "2022-10-11  3790.929932  3783.280029  3744.520020  3639.659912  3612.389893   \n",
       "2022-10-12  3783.280029  3744.520020  3639.659912  3612.389893  3588.840088   \n",
       "2022-10-13  3744.520020  3639.659912  3612.389893  3588.840088  3577.030029   \n",
       "2022-10-14  3639.659912  3612.389893  3588.840088  3577.030029  3669.909912   \n",
       "\n",
       "                Close-0  \n",
       "Dia                      \n",
       "2018-03-19  2712.919922  \n",
       "2018-03-20  2716.939941  \n",
       "2018-03-21  2711.929932  \n",
       "2018-03-22  2643.689941  \n",
       "2018-03-23  2588.260010  \n",
       "...                 ...  \n",
       "2022-10-10  3612.389893  \n",
       "2022-10-11  3588.840088  \n",
       "2022-10-12  3577.030029  \n",
       "2022-10-13  3669.909912  \n",
       "2022-10-14  3583.070068  \n",
       "\n",
       "[1154 rows x 101 columns]"
      ]
     },
     "execution_count": 115,
     "metadata": {},
     "output_type": "execute_result"
    }
   ],
   "source": [
    "data"
   ]
  },
  {
   "cell_type": "code",
   "execution_count": 116,
   "metadata": {},
   "outputs": [
    {
     "data": {
      "image/png": "[encoded data removed]",
      "text/plain": [
       "<Figure size 432x288 with 1 Axes>"
      ]
     },
     "metadata": {
      "needs_background": "light"
     },
     "output_type": "display_data"
    }
   ],
   "source": [
    "ax = data['Close-0'].plot(title='SP-500')\n",
    "ax.set_xlabel('Date')\n",
    "ax.set_ylabel('Close')\n",
    "ax.grid()\n",
    "plt.show()"
   ]
  },
  {
   "cell_type": "code",
   "execution_count": 117,
   "metadata": {},
   "outputs": [],
   "source": [
    "X = data.iloc[:, :-1]"
   ]
  },
  {
   "cell_type": "code",
   "execution_count": 118,
   "metadata": {},
   "outputs": [],
   "source": [
    "y = data.iloc[:, -1]"
   ]
  },
  {
   "cell_type": "code",
   "execution_count": 119,
   "metadata": {},
   "outputs": [],
   "source": [
    "X_treino, X_teste, y_treino, y_teste = train_test_split(X, y, test_size = 0.2, shuffle = False)"
   ]
  },
  {
   "cell_type": "code",
   "execution_count": 120,
   "metadata": {},
   "outputs": [
    {
     "data": {
      "text/plain": [
       "(923, 100)"
      ]
     },
     "execution_count": 120,
     "metadata": {},
     "output_type": "execute_result"
    }
   ],
   "source": [
    "X_treino.shape"
   ]
  },
  {
   "cell_type": "code",
   "execution_count": 121,
   "metadata": {},
   "outputs": [
    {
     "data": {
      "text/plain": [
       "(231, 100)"
      ]
     },
     "execution_count": 121,
     "metadata": {},
     "output_type": "execute_result"
    }
   ],
   "source": [
    "X_teste.shape"
   ]
  },
  {
   "cell_type": "code",
   "execution_count": 122,
   "metadata": {},
   "outputs": [
    {
     "data": {
      "text/plain": [
       "(923,)"
      ]
     },
     "execution_count": 122,
     "metadata": {},
     "output_type": "execute_result"
    }
   ],
   "source": [
    "y_treino.shape"
   ]
  },
  {
   "cell_type": "code",
   "execution_count": 123,
   "metadata": {},
   "outputs": [
    {
     "data": {
      "text/plain": [
       "(231,)"
      ]
     },
     "execution_count": 123,
     "metadata": {},
     "output_type": "execute_result"
    }
   ],
   "source": [
    "y_teste.shape"
   ]
  },
  {
   "cell_type": "code",
   "execution_count": 127,
   "metadata": {},
   "outputs": [
    {
     "data": {
      "text/plain": [
       "numpy.ndarray"
      ]
     },
     "execution_count": 127,
     "metadata": {},
     "output_type": "execute_result"
    }
   ],
   "source": [
    "type(X_teste)"
   ]
  },
  {
   "cell_type": "code",
   "execution_count": 124,
   "metadata": {},
   "outputs": [],
   "source": [
    "scaler = StandardScaler()\n",
    "\n",
    "scaler.fit(X_treino)\n",
    "\n",
    "X_treino = scaler.transform(X_treino)\n",
    "X_teste = scaler.transform(X_teste)"
   ]
  },
  {
   "cell_type": "code",
   "execution_count": null,
   "metadata": {},
   "outputs": [],
   "source": [
    "ax = data['Close-0'].plot(title='SP-500')\n",
    "ax.set_xlabel('Date')\n",
    "ax.set_ylabel('Close')\n",
    "ax.grid()\n",
    "plt.show()"
   ]
  },
  {
   "cell_type": "code",
   "execution_count": null,
   "metadata": {},
   "outputs": [],
   "source": []
  },
  {
   "cell_type": "code",
   "execution_count": null,
   "metadata": {},
   "outputs": [],
   "source": []
  },
  {
   "cell_type": "code",
   "execution_count": null,
   "metadata": {},
   "outputs": [],
   "source": []
  },
  {
   "cell_type": "code",
   "execution_count": null,
   "metadata": {},
   "outputs": [],
   "source": []
  },
  {
   "cell_type": "code",
   "execution_count": null,
   "metadata": {},
   "outputs": [],
   "source": [
    "# Parametros fixos de treinamento\n",
    "epochs = 200\n",
    "batch_size = 128\n",
    "nKFold = 5\n",
    "nPCA = 7"
   ]
  },
  {
   "cell_type": "code",
   "execution_count": null,
   "metadata": {},
   "outputs": [],
   "source": [
    "# Callbacks\n",
    "\n",
    "checkpoint = ModelCheckpoint(filepath = \"saveModel/bestModel\", \n",
    "                             monitor='val_loss',\n",
    "                             mode='min',\n",
    "                             save_best_only=True,\n",
    "                             save_weights_only=False,\n",
    "                             verbose = verbose)\n",
    "    \n",
    "tensorboard = TensorBoard(log_dir=\"logs_reg/{}\".format(time()))\n",
    "\n",
    "earlystop = EarlyStopping(monitor='val_loss',\n",
    "                              min_delta=0,\n",
    "                              patience=20,\n",
    "                              verbose = verbose,\n",
    "                              restore_best_weights=True)\n",
    "\n",
    "reduce_lr = ReduceLROnPlateau(monitor='loss',\n",
    "                              factor=0.2,\n",
    "                              patience=3,\n",
    "                              mode=\"min\",\n",
    "                              verbose = verbose,\n",
    "                              min_delta=0.00001,\n",
    "                              min_lr=0)\n",
    "\n",
    "lambdaCB = LambdaCallback(on_epoch_begin=None,\n",
    "                          on_epoch_end=None,\n",
    "                          on_batch_begin=None,\n",
    "                          on_batch_end=None,\n",
    "                          on_train_begin=None,\n",
    "                          on_train_end=None)\n",
    "\n",
    "callbacks = [tensorboard, earlystop, reduce_lr, TerminateOnNaN()] # checkpoint, lambdaCB"
   ]
  },
  {
   "cell_type": "code",
   "execution_count": null,
   "metadata": {},
   "outputs": [],
   "source": [
    "def create_model(optimizer,\n",
    "                 layers,\n",
    "                 n_dense,\n",
    "                 activationA,\n",
    "                 activationB,\n",
    "                 regL1,\n",
    "                 regL2,\n",
    "                 dropout):\n",
    "    \n",
    "    stdInitializer = GlorotUniform(seed)\n",
    "    regularizer = L1L2(l1 = regL1, l2 = regL2)\n",
    "    \n",
    "    activations = [activationA, activationB]\n",
    "    currentActivation = 1\n",
    "    \n",
    "    #----Alternar entre as funções de ativação-----\n",
    "    func = activations[currentActivation]\n",
    "    currentActivation = 1 - currentActivation\n",
    "    #----------------------------------------------\n",
    "    \n",
    "    model = Sequential()\n",
    "    \n",
    "    model.add(Dense(n_dense,\n",
    "                    kernel_initializer = stdInitializer,\n",
    "                    kernel_regularizer = regularizer,\n",
    "                    bias_regularizer = regularizer,\n",
    "                    activation = func,\n",
    "                    input_shape = (nPCA,)))\n",
    "    \n",
    "    \n",
    "    \n",
    "    #################################################################\n",
    "    \n",
    "    for layer in range(layers):\n",
    "        \n",
    "        #----Alternar entre as funções de ativação-----\n",
    "        func = activations[currentActivation]\n",
    "        currentActivation = 1 - currentActivation\n",
    "        #----------------------------------------------\n",
    "        \n",
    "        model.add(Dropout(dropout))\n",
    "        \n",
    "        model.add(Dense(n_dense,\n",
    "                        kernel_initializer = stdInitializer,\n",
    "                        kernel_regularizer = regularizer,\n",
    "                        bias_regularizer = regularizer,\n",
    "                        activation = func))\n",
    "    \n",
    "    \n",
    "    ##################################################################\n",
    "    \n",
    "    model.add(Dense(1,\n",
    "                    kernel_initializer = stdInitializer,\n",
    "                    kernel_regularizer = regularizer,\n",
    "                    bias_regularizer = regularizer,))\n",
    "    \n",
    "    #--------------Loss Function--------------------------\n",
    "    # Lmae = keras.losses.MeanAbsoluteError()\n",
    "    # Lmape = keras.losses.MeanAbsolutePercentageError()\n",
    "    Lmse = keras.losses.MeanSquaredError()\n",
    "    # Lmsle = keras.losses.MeanSquaredLogarithmicError()\n",
    "    #-----------------------------------------------------\n",
    "    #--------------Metric Function------------------------\n",
    "    # Mmae = keras.metrics.MeanAbsoluteError()\n",
    "    # Mmape = keras.metrics.MeanAbsolutePercentageError()\n",
    "    # Mmse = keras.metrics.MeanSquaredError()\n",
    "    # Mmsle = keras.metrics.MeanSquaredLogarithmicError()\n",
    "    # Mrmse = keras.metrics.RootMeanSquaredError()\n",
    "    #-----------------------------------------------------\n",
    "    \n",
    "    \n",
    "    model.compile(loss= Lmse,\n",
    "                  optimizer=optimizer)\n",
    "                  # metrics=[Mmse])\n",
    "\n",
    "    return model"
   ]
  },
  {
   "cell_type": "code",
   "execution_count": null,
   "metadata": {},
   "outputs": [],
   "source": [
    "# Modelo\n",
    "model = KerasRegressor(build_fn = create_model,\n",
    "                        verbose = verbose,\n",
    "                        callbacks = callbacks)"
   ]
  },
  {
   "cell_type": "code",
   "execution_count": null,
   "metadata": {},
   "outputs": [],
   "source": [
    "#Pipeline\n",
    "steps = [(\"model\", model)]\n",
    "\n",
    "estimator = Pipeline(steps, verbose = verbose)"
   ]
  },
  {
   "cell_type": "code",
   "execution_count": null,
   "metadata": {},
   "outputs": [],
   "source": [
    "# Definição dos parametros (GridSearch)\n",
    "\n",
    "# Optimizer\n",
    "learning_rate = 0.01\n",
    "\n",
    "opt_SGD = SGD(\n",
    "    learning_rate = learning_rate,\n",
    "    momentum = 0.0,\n",
    "    nesterov = False)\n",
    "\n",
    "opt_RMSprop = RMSprop(\n",
    "    learning_rate = learning_rate,\n",
    "    rho = 0.9,\n",
    "    momentum = 0.0,\n",
    "    epsilon = 1e-07,\n",
    "    centered = False)\n",
    "\n",
    "opt_Adam = Adam(\n",
    "    learning_rate = learning_rate,\n",
    "    beta_1 = 0.9,\n",
    "    beta_2 = 0.999,\n",
    "    epsilon = 1e-07,\n",
    "    amsgrad = False)\n",
    "\n",
    "opt_Adadelta = Adadelta(\n",
    "    learning_rate = learning_rate,\n",
    "    rho = 0.95,\n",
    "    epsilon = 1e-07)\n",
    "\n",
    "opt_Adagrad = Adagrad(\n",
    "    learning_rate = learning_rate,\n",
    "    initial_accumulator_value = 0.1,\n",
    "    epsilon = 1e-07)\n",
    "\n",
    "opt_Adamax = Adamax(\n",
    "    learning_rate = learning_rate,\n",
    "    beta_1 = 0.9,\n",
    "    beta_2 = 0.999,\n",
    "    epsilon = 1e-07)\n",
    "\n",
    "opt_Nadam = Nadam(\n",
    "    learning_rate = learning_rate,\n",
    "    beta_1 = 0.9,\n",
    "    beta_2 = 0.999,\n",
    "    epsilon = 1e-07)\n",
    "\n",
    "opt_Ftrl = Ftrl(\n",
    "    learning_rate = learning_rate,\n",
    "    learning_rate_power = -0.5,\n",
    "    initial_accumulator_value = 0.1,\n",
    "    l1_regularization_strength = 0.0,\n",
    "    l2_regularization_strength = 0.0,\n",
    "    l2_shrinkage_regularization_strength = 0.0,\n",
    "    beta = 0.0)\n",
    "\n",
    "params_grid = {\n",
    "    \n",
    "    # optimizer [opt_SGD, opt_RMSprop, opt_Adam, opt_Adadelta, opt_Adagrad, opt_Adamax, opt_Nadam, opt_Ftrl]\n",
    "    'model__optimizer': [opt_Adam],\n",
    "    \n",
    "    # Número de camadas\n",
    "    'model__layers': [3, 4],\n",
    "    \n",
    "    # Neuronios por camada\n",
    "    'model__n_dense': [128],\n",
    "    \n",
    "    # activation ['relu', 'sigmoid', 'tanh', 'selu', 'elu']\n",
    "    'model__activationA': ['sigmoid'],\n",
    "    'model__activationB': ['sigmoid'],\n",
    "    \n",
    "    # Ridge regularizer\n",
    "    'model__regL1': [0],\n",
    "    \n",
    "    # Lasso regularizer\n",
    "    'model__regL2': [0],\n",
    "    \n",
    "    # Dropout regularizer\n",
    "    'model__dropout': [0]\n",
    "}"
   ]
  },
  {
   "cell_type": "code",
   "execution_count": null,
   "metadata": {},
   "outputs": [],
   "source": [
    "# Grid Search e Cross Validation\n",
    "\n",
    "grid = GridSearchCV(estimator = estimator,\n",
    "                    # negative mean square error\n",
    "                    scoring = make_scorer(score_func = mean_squared_error, greater_is_better = False),\n",
    "                    verbose = verbose,\n",
    "                    return_train_score = False,\n",
    "                    cv = nKFold,\n",
    "                    # n_jobs = -2 # \"-2\": mantem 1 processador livre\n",
    "                    # pre_dispatch = '2*n_jobs',\n",
    "                    refit = True,\n",
    "                    param_grid = params_grid)"
   ]
  },
  {
   "cell_type": "code",
   "execution_count": null,
   "metadata": {},
   "outputs": [],
   "source": [
    "# View grid\n",
    "\n",
    "grid"
   ]
  },
  {
   "cell_type": "code",
   "execution_count": null,
   "metadata": {
    "scrolled": false
   },
   "outputs": [],
   "source": [
    "# Monitoramento de Otimização\n",
    "\n",
    "# tensorboard --logdir=logs/\n",
    "notebook.display(port=6006, height=1000)"
   ]
  },
  {
   "cell_type": "code",
   "execution_count": null,
   "metadata": {
    "scrolled": true
   },
   "outputs": [],
   "source": [
    "# Treinamento\n",
    "\n",
    "fit_params = {\n",
    "    'model__batch_size': batch_size,\n",
    "    'model__epochs': epochs,\n",
    "    'model__verbose': verbose,\n",
    "    'model__validation_data': (x_teste, y_teste),\n",
    "    'model__shuffle': True,\n",
    "    'model__validation_steps': None,\n",
    "    'model__validation_freq': 1,\n",
    "}\n",
    "\n",
    "grid_result = grid.fit(x_treino, y_treino, **fit_params)"
   ]
  },
  {
   "cell_type": "code",
   "execution_count": null,
   "metadata": {},
   "outputs": [],
   "source": [
    "# Resultado do SearchGridCV\n",
    "\n",
    "pd.concat([\n",
    "           pd.DataFrame(grid.cv_results_)[['rank_test_score', 'mean_test_score', 'mean_fit_time']],\n",
    "           pd.DataFrame(grid.cv_results_['params'])\n",
    "          ],\n",
    "           axis=1,\n",
    "           join='inner').set_index('rank_test_score').sort_values('rank_test_score')\n",
    "\n",
    "# Função score com base no SearchGridCV"
   ]
  },
  {
   "cell_type": "code",
   "execution_count": null,
   "metadata": {},
   "outputs": [],
   "source": [
    "best_params = grid.best_params_\n",
    "best_model = grid.best_estimator_"
   ]
  },
  {
   "cell_type": "code",
   "execution_count": null,
   "metadata": {},
   "outputs": [],
   "source": [
    "# negative mean square error - Função score do Modelo Keras encapsulado\n",
    "best_model.score(x_teste, y_teste)"
   ]
  },
  {
   "cell_type": "code",
   "execution_count": null,
   "metadata": {},
   "outputs": [],
   "source": [
    "# negative mean square error - Função score do Modelo Keras encapsulado\n",
    "best_model.score(x_treino, y_treino)"
   ]
  },
  {
   "cell_type": "code",
   "execution_count": null,
   "metadata": {
    "scrolled": false
   },
   "outputs": [],
   "source": [
    "pd.DataFrame({'y': y_teste, 'previsao': best_model.predict(x_teste)})"
   ]
  },
  {
   "cell_type": "code",
   "execution_count": null,
   "metadata": {},
   "outputs": [],
   "source": [
    "sns.residplot(best_model.predict(x_teste), y_teste);"
   ]
  },
  {
   "cell_type": "markdown",
   "metadata": {},
   "source": [
    "## Carregando o Conjunto de dados"
   ]
  },
  {
   "cell_type": "markdown",
   "metadata": {},
   "source": [
    "## Análise Exploratória de Dados"
   ]
  },
  {
   "cell_type": "markdown",
   "metadata": {},
   "source": [
    "### Análise n - XXX"
   ]
  },
  {
   "cell_type": "markdown",
   "metadata": {},
   "source": [
    "## Pré-Processamento de Dados Para Construção de Modelos de Machine Learning"
   ]
  },
  {
   "cell_type": "markdown",
   "metadata": {},
   "source": [
    "### Padronização"
   ]
  },
  {
   "cell_type": "markdown",
   "metadata": {},
   "source": [
    "###  Construção, Treinamento e Avaliação do Modelo 1 com Regressão Linear (Benchmark)"
   ]
  },
  {
   "cell_type": "code",
   "execution_count": null,
   "metadata": {},
   "outputs": [],
   "source": [
    "reg = LinearRegression().fit(x_treino, y_treino)"
   ]
  },
  {
   "cell_type": "code",
   "execution_count": null,
   "metadata": {},
   "outputs": [],
   "source": [
    "# coefficient of determination\n",
    "\n",
    "reg.score(x_teste, y_teste)"
   ]
  },
  {
   "cell_type": "code",
   "execution_count": null,
   "metadata": {},
   "outputs": [],
   "source": [
    "regLoss = ((reg.predict(x_teste) - y_teste)**2).mean()\n",
    "regLoss"
   ]
  },
  {
   "cell_type": "code",
   "execution_count": null,
   "metadata": {},
   "outputs": [],
   "source": [
    "pd.DataFrame({'y': y_teste, 'previsao': reg.predict(x_teste)})"
   ]
  },
  {
   "cell_type": "code",
   "execution_count": null,
   "metadata": {},
   "outputs": [],
   "source": [
    " sns.residplot (reg.predict(x_teste), y_teste);"
   ]
  },
  {
   "cell_type": "markdown",
   "metadata": {},
   "source": [
    "### Avaliação do Modelo"
   ]
  },
  {
   "cell_type": "markdown",
   "metadata": {},
   "source": [
    "### Métricas"
   ]
  },
  {
   "cell_type": "markdown",
   "metadata": {},
   "source": [
    "### Resíduos"
   ]
  },
  {
   "cell_type": "markdown",
   "metadata": {},
   "source": [
    "###  Construção, Treinamento e Avaliação do Modelo n com XXX"
   ]
  },
  {
   "cell_type": "markdown",
   "metadata": {},
   "source": [
    "## Seleção do Modelo"
   ]
  },
  {
   "cell_type": "markdown",
   "metadata": {},
   "source": [
    "## Conclusão"
   ]
  },
  {
   "cell_type": "markdown",
   "metadata": {},
   "source": [
    "# Fim"
   ]
  }
 ],
 "metadata": {
  "kernelspec": {
   "display_name": "Python 3 (ipykernel)",
   "language": "python",
   "name": "python3"
  },
  "language_info": {
   "codemirror_mode": {
    "name": "ipython",
    "version": 3
   },
   "file_extension": ".py",
   "mimetype": "text/x-python",
   "name": "python",
   "nbconvert_exporter": "python",
   "pygments_lexer": "ipython3",
   "version": "3.9.12"
  }
 },
 "nbformat": 4,
 "nbformat_minor": 1
}
