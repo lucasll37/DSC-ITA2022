{
 "cells": [
  {
   "cell_type": "markdown",
   "metadata": {
    "id": "3BXdX25pqM3w"
   },
   "source": [
    "# <font color='blue'>Data Science Challenge @ ITA 2022</font>\n",
    "# <font color='blue'>Equipe DIOMGIS</font>\n",
    "\n",
    "## <font color='blue'>Fase 1</font>\n",
    "\n",
    "### <font color='blue'>TEMA DO DESAFIO</font>"
   ]
  },
  {
   "cell_type": "markdown",
   "metadata": {
    "id": "7T7FpUtIqM3y"
   },
   "source": [
    "![title](..\\data\\image\\logo.jpeg)"
   ]
  },
  {
   "cell_type": "code",
   "execution_count": null,
   "metadata": {
    "colab": {
     "base_uri": "https://localhost:8080/"
    },
    "id": "F0ZkkAr_qM3z",
    "outputId": "9c5c457b-5a97-4264-ee0e-bfb7487efa3b"
   },
   "outputs": [],
   "source": [
    "# Versão da Linguagem Python\n",
    "from platform import python_version\n",
    "print('Versão da Linguagem Python Usada Neste Jupyter Notebook:', python_version())"
   ]
  },
  {
   "cell_type": "code",
   "execution_count": null,
   "metadata": {
    "colab": {
     "base_uri": "https://localhost:8080/"
    },
    "id": "wTQOJ9OTqM30",
    "outputId": "d98aebee-1da6-4add-9979-62608a82d05a"
   },
   "outputs": [],
   "source": [
    "# Para atualizar um pacote, execute o comando abaixo no terminal ou prompt de comando:\n",
    "# pip install -U nome_pacote\n",
    "\n",
    "# Para instalar a versão exata de um pacote, execute o comando abaixo no terminal ou prompt de comando:\n",
    "#!pip install nome_pacote==versão_desejada\n",
    "\n",
    "# Depois de instalar ou atualizar o pacote, reinicie o jupyter notebook.\n",
    "\n",
    "# Instala o pacote watermark. \n",
    "# Esse pacote é usado para gravar as versões de outros pacotes usados neste jupyter notebook.\n",
    "# !pip install -q -U watermark"
   ]
  },
  {
   "cell_type": "code",
   "execution_count": null,
   "metadata": {
    "id": "LtPIVZCaqM30"
   },
   "outputs": [],
   "source": [
    "# Bibliotecas e Frameworks\n",
    "\n",
    "import numpy as np\n",
    "import pandas as pd\n",
    "from sklearn.decomposition import PCA\n",
    "from imblearn.over_sampling import SMOTE\n",
    "from sklearn.model_selection import GridSearchCV\n",
    "from sklearn.ensemble import GradientBoostingRegressor\n",
    "from sklearn.metrics import mean_squared_error\n",
    "import matplotlib.pyplot as plt\n",
    "import seaborn as sns\n",
    "import warnings\n",
    "from time import time\n",
    "from datetime import datetime\n",
    "import os\n",
    "import joblib"
   ]
  },
  {
   "cell_type": "code",
   "execution_count": null,
   "metadata": {
    "colab": {
     "base_uri": "https://localhost:8080/"
    },
    "id": "rFOvBtroqM31",
    "outputId": "60a2dfb1-bc06-405c-8679-474d47770036"
   },
   "outputs": [],
   "source": [
    "# Versões dos pacotes usados neste jupyter notebook\n",
    "\n",
    "%reload_ext watermark\n",
    "%watermark -a \"Equipe DIOMGIS\" --iversions"
   ]
  },
  {
   "cell_type": "code",
   "execution_count": null,
   "metadata": {
    "id": "tXGKSvBxqM31"
   },
   "outputs": [],
   "source": [
    "sns.set_style('whitegrid')\n",
    "%matplotlib inline\n",
    "warnings.filterwarnings(\"ignore\", category=FutureWarning)\n",
    "warnings.filterwarnings(\"ignore\", category=DeprecationWarning)"
   ]
  },
  {
   "cell_type": "code",
   "execution_count": null,
   "metadata": {
    "id": "0Su5L3igqM31"
   },
   "outputs": [],
   "source": [
    "verbose = 1\n",
    "seed = 25\n",
    "\n",
    "np.random.seed(seed)"
   ]
  },
  {
   "cell_type": "code",
   "execution_count": null,
   "metadata": {},
   "outputs": [],
   "source": [
    "# Gerador dados sintéticos\n",
    "\n",
    "size_sample = 200000\n",
    "\n",
    "# Dados de Treino\n",
    "# x\n",
    "x1 = 10 * np.random.random(size_sample)\n",
    "x2 = 10 * np.random.random(size_sample)\n",
    "x3 = 10 * np.random.random(size_sample)\n",
    "x4 = 10 * np.random.random(size_sample)\n",
    "x5 = 10 * np.random.random(size_sample)\n",
    "x6 = 10 * np.random.random(size_sample)\n",
    "x7 = 10 * np.random.random(size_sample)\n",
    "\n",
    "x_treino = np.dstack((x1, x2, x3, x4, x5, x6, x7))[0]\n",
    "\n",
    "# y\n",
    "y_treino = 3*(x1**(1/2)) + 2*(x2**2) + 4*x3 - 5*(x4**(3/2)) + x5 + x6**(3) - x7\n",
    "\n",
    "# Dados de Validação\n",
    "# x\n",
    "x1 = 10 * np.random.random(int(0.1 * size_sample))\n",
    "x2 = 10 * np.random.random(int(0.1 * size_sample))\n",
    "x3 = 10 * np.random.random(int(0.1 * size_sample))\n",
    "x4 = 10 * np.random.random(int(0.1 * size_sample))\n",
    "x5 = 10 * np.random.random(int(0.1 * size_sample))\n",
    "x6 = 10 * np.random.random(int(0.1 * size_sample))\n",
    "x7 = 10 * np.random.random(int(0.1 * size_sample))\n",
    "\n",
    "x_teste = np.dstack((x1, x2, x3, x4, x5, x6, x7))[0]\n",
    "\n",
    "# y\n",
    "y_teste = 3*(x1**(1/2)) + 2*(x2**2) + 4*x3 - 5*(x4**(3/2)) + x5 + x6**(3) - x7"
   ]
  },
  {
   "cell_type": "code",
   "execution_count": null,
   "metadata": {
    "id": "NSGWdZ_8qM33"
   },
   "outputs": [],
   "source": [
    "# Parametros fixos de treinamento\n",
    "\n",
    "nKFold = 5\n",
    "nPCA = 7"
   ]
  },
  {
   "cell_type": "code",
   "execution_count": null,
   "metadata": {
    "colab": {
     "base_uri": "https://localhost:8080/",
     "height": 70
    },
    "id": "uSKuayfbqM33",
    "outputId": "3291cbde-0d66-48e8-95b5-181d3d9b74e7"
   },
   "outputs": [],
   "source": [
    "# Principal Component Analysis\n",
    "'''\n",
    "reduceDim = PCA(n_components = nPCA,\n",
    "                copy = True,\n",
    "                whiten = False,\n",
    "                svd_solver = 'auto',\n",
    "                tol = 0.0,\n",
    "                iterated_power = 'auto',\n",
    "                n_oversamples = 10,\n",
    "                power_iteration_normalizer = 'auto',\n",
    "                random_state = None)\n",
    "\n",
    "reduceDim.fit(x_treino)\n",
    "\n",
    "x_treino = reduceDim.transform(x_treino)\n",
    "x_teste = reduceDim.transform(x_teste)\n",
    "'''"
   ]
  },
  {
   "cell_type": "code",
   "execution_count": null,
   "metadata": {
    "id": "_jmJU2i5qM34"
   },
   "outputs": [],
   "source": [
    "# Definição dos parametros (GridSearch)\n",
    "\n",
    "params_grid = {\n",
    "               # ['squared_error', 'absolute_error', 'huber', 'quantile']\n",
    "              'loss': ['squared_error'],\n",
    "    \n",
    "               # trade-off entre learning_rate e n_estimators\n",
    "              'learning_rate': [0.1],\n",
    "    \n",
    "               # O número de estágios de reforço a serem executados \n",
    "              'n_estimators': [100],\n",
    "    \n",
    "               # A fração de amostras a ser usada para ajustar os alunos de base individuais\n",
    "              'subsample': [1.0],\n",
    "               \n",
    "               # ['friedman_mse', 'squared_error', 'mse'] \n",
    "              'criterion': ['friedman_mse'],\n",
    "    \n",
    "               # O número mínimo de amostras necessárias para dividir um nó interno\n",
    "              'min_samples_split': [2],\n",
    "    \n",
    "               # O número mínimo de amostras necessárias para estar em um nó folha\n",
    "              'min_samples_leaf': [1],\n",
    "    \n",
    "               # A fração ponderada mínima da soma total de pesos necessária para estar em um nó folha\n",
    "              'min_weight_fraction_leaf': [0.0],\n",
    "    \n",
    "               # A profundidade máxima dos estimadores de regressão individuais\n",
    "              'max_depth': [3],\n",
    "    \n",
    "               # Um nó será dividido se esta divisão induzir uma diminuição da impureza maior ou igual a este valor\n",
    "              'min_impurity_decrease': [0.0],\n",
    "    \n",
    "               # Um objeto estimador que é usado para calcular as previsões iniciais\n",
    "              'init': [None],\n",
    "    \n",
    "              # ['auto', 'sqrt', 'log2'], int ou float. O número de recursos a serem considerados ao procurar a melhor divisão\n",
    "              'max_features': [None],\n",
    "    \n",
    "              # O alfa-quantil da função de perda de huber e a função de perda de quantil.\n",
    "              # Somente se loss='huber'ou loss='quantile'. Entre 0 e 1\n",
    "              'alpha': [0.9],\n",
    "    \n",
    "              # [int]. Cultive árvores max_leaf_nodes da melhor maneira possível\n",
    "              'max_leaf_nodes': [None],\n",
    "              \n",
    "              # Quando definido como True, reutilize a solução da chamada anterior para ajustar e adicione\n",
    "              # mais estimadores ao ensemble, caso contrário, apenas apague a solução anterior\n",
    "              'warm_start': [False],\n",
    "    \n",
    "              # A proporção de dados de treinamento a serem reservados como validação\n",
    "              # definida para interrupção antecipada\n",
    "              'validation_fraction': [0.1],\n",
    "    \n",
    "              # usado para decidir se a interrupção antecipada será usada para encerrar\n",
    "              # o treinamento quando a pontuação de validação não estiver melhorando\n",
    "              'n_iter_no_change': [None],\n",
    "    \n",
    "              # Tolerância para a parada antecipada\n",
    "              'tol': [0.0001],\n",
    "    \n",
    "              # Parâmetro de complexidade usado para remoção de complexidade de custo mínimo.\n",
    "              # A subárvore com a maior complexidade de custo que for menor do que ccp_alphaserá escolhida\n",
    "              'ccp_alpha': [0.0]\n",
    "}"
   ]
  },
  {
   "cell_type": "code",
   "execution_count": null,
   "metadata": {
    "id": "lO_3B6l9qM35"
   },
   "outputs": [],
   "source": [
    "# Grid Search e Cross Validation\n",
    "\n",
    "model = GradientBoostingRegressor(random_state = seed, verbose = verbose)\n",
    "\n",
    "grid = GridSearchCV(estimator = model,\n",
    "                    param_grid = params_grid,\n",
    "                    scoring = 'neg_mean_squared_error',\n",
    "                    refit = True,\n",
    "                    cv = nKFold,\n",
    "                    return_train_score = False,\n",
    "                    # n_jobs = -2, # \"-2\": mantem 1 processador livre\n",
    "                    # pre_dispatch = '2*n_jobs',\n",
    "                    verbose = verbose)"
   ]
  },
  {
   "cell_type": "code",
   "execution_count": null,
   "metadata": {
    "id": "BJ5jUp8XqM35"
   },
   "outputs": [],
   "source": [
    "# View grid\n",
    "\n",
    "grid"
   ]
  },
  {
   "cell_type": "code",
   "execution_count": null,
   "metadata": {
    "colab": {
     "base_uri": "https://localhost:8080/",
     "height": 397
    },
    "id": "NqXQFyUOqM36",
    "outputId": "87b49082-e004-4755-c517-a2cd74bcabfe",
    "scrolled": true
   },
   "outputs": [],
   "source": [
    "# Treinamento\n",
    "\n",
    "fit_params = {'monitor': None}\n",
    "\n",
    "grid_result = grid.fit(x_treino, y_treino, **fit_params)"
   ]
  },
  {
   "cell_type": "code",
   "execution_count": null,
   "metadata": {
    "id": "ba71557qqM36",
    "outputId": "88623b52-4155-4fa6-955a-091c7103b63c"
   },
   "outputs": [],
   "source": [
    "# Resultado do SearchGridCV\n",
    "\n",
    "pd.concat([\n",
    "           pd.DataFrame(grid.cv_results_)[['rank_test_score', 'mean_test_score', 'mean_fit_time']],\n",
    "           pd.DataFrame(grid.cv_results_['params'])\n",
    "          ],\n",
    "           axis=1,\n",
    "           join='inner').set_index('rank_test_score').sort_values('rank_test_score')"
   ]
  },
  {
   "cell_type": "code",
   "execution_count": null,
   "metadata": {
    "id": "GZRXsU7KqM37"
   },
   "outputs": [],
   "source": [
    "best_params = grid.best_params_\n",
    "best_model = grid.best_estimator_"
   ]
  },
  {
   "cell_type": "code",
   "execution_count": null,
   "metadata": {
    "id": "eoUeuwyyqM37",
    "outputId": "f8ff6783-ae27-4db2-a062-6440ba4f02e5"
   },
   "outputs": [],
   "source": [
    "# Coeficiente de Determinação R2\n",
    "\n",
    "best_model.score(x_treino, y_treino)"
   ]
  },
  {
   "cell_type": "code",
   "execution_count": null,
   "metadata": {
    "id": "JOSEItsJqM37",
    "outputId": "647a705b-234f-4971-c0ee-76bb9df3a9a2"
   },
   "outputs": [],
   "source": [
    "# Coeficiente de Determinação R2\n",
    "\n",
    "best_model.score(x_teste, y_teste)"
   ]
  },
  {
   "cell_type": "code",
   "execution_count": null,
   "metadata": {},
   "outputs": [],
   "source": [
    "joblib.dump(best_model, \"bestModel/{}xgboostModel.pkl\".format(time()))\n"
   ]
  },
  {
   "cell_type": "markdown",
   "metadata": {},
   "source": [
    "### Recuperando Modelo Salvo"
   ]
  },
  {
   "cell_type": "code",
   "execution_count": null,
   "metadata": {},
   "outputs": [],
   "source": [
    "timeSaved = 1665772704.9439006\n",
    "recoveryModel = joblib.load(\"bestModel/{}xgboostModel.pkl\".format(timeSaved))"
   ]
  },
  {
   "cell_type": "code",
   "execution_count": null,
   "metadata": {},
   "outputs": [],
   "source": [
    "recoveryModel.score(x_treino, y_treino)"
   ]
  },
  {
   "cell_type": "code",
   "execution_count": null,
   "metadata": {},
   "outputs": [],
   "source": [
    "recoveryModel.score(x_teste, y_teste)"
   ]
  },
  {
   "cell_type": "code",
   "execution_count": null,
   "metadata": {},
   "outputs": [],
   "source": [
    "mseTreino = mean_squared_error(y_treino, recoveryModel.predict(x_treino))\n",
    "print(\"The mean squared error (MSE) on train set: {:.4f}\".format(mseTreino))"
   ]
  },
  {
   "cell_type": "code",
   "execution_count": null,
   "metadata": {},
   "outputs": [],
   "source": [
    "mseTeste = mean_squared_error(y_teste, recoveryModel.predict(x_teste))\n",
    "print(\"The mean squared error (MSE) on train set: {:.4f}\".format(mseTeste))"
   ]
  },
  {
   "cell_type": "markdown",
   "metadata": {
    "id": "mZ48LtPWqM37"
   },
   "source": [
    "## Carregando o Conjunto de dados"
   ]
  },
  {
   "cell_type": "markdown",
   "metadata": {
    "id": "cstxBNz1qM37"
   },
   "source": [
    "## Análise Exploratória de Dados"
   ]
  },
  {
   "cell_type": "markdown",
   "metadata": {
    "id": "XbA3tcJgqM37"
   },
   "source": [
    "### Análise n - XXX"
   ]
  },
  {
   "cell_type": "markdown",
   "metadata": {
    "id": "MO6Nhah1qM37"
   },
   "source": [
    "## Pré-Processamento de Dados Para Construção de Modelos de Machine Learning"
   ]
  },
  {
   "cell_type": "markdown",
   "metadata": {
    "id": "ADCXwMP_qM37"
   },
   "source": [
    "### Padronização"
   ]
  },
  {
   "cell_type": "markdown",
   "metadata": {
    "id": "VchtE5lWqM38"
   },
   "source": [
    "###  Construção, Treinamento e Avaliação do Modelo 1 com Regressão Linear (Benchmark)"
   ]
  },
  {
   "cell_type": "markdown",
   "metadata": {
    "id": "Lq9r1q7yqM38"
   },
   "source": [
    "### Avaliação do Modelo"
   ]
  },
  {
   "cell_type": "markdown",
   "metadata": {
    "id": "oHDrgFX0qM38"
   },
   "source": [
    "### Métricas"
   ]
  },
  {
   "cell_type": "markdown",
   "metadata": {
    "id": "KshW4ao2qM38"
   },
   "source": [
    "### Resíduos"
   ]
  },
  {
   "cell_type": "markdown",
   "metadata": {
    "id": "CSs9Uck5qM38"
   },
   "source": [
    "###  Construção, Treinamento e Avaliação do Modelo n com XXX"
   ]
  },
  {
   "cell_type": "markdown",
   "metadata": {
    "id": "Y9YYQjs3qM38"
   },
   "source": [
    "## Seleção do Modelo"
   ]
  },
  {
   "cell_type": "markdown",
   "metadata": {
    "id": "3vNuHHl2qM38"
   },
   "source": [
    "## Conclusão"
   ]
  },
  {
   "cell_type": "markdown",
   "metadata": {
    "id": "BQMTz7Y3qM38"
   },
   "source": [
    "# Fim"
   ]
  }
 ],
 "metadata": {
  "colab": {
   "collapsed_sections": [],
   "provenance": []
  },
  "kernelspec": {
   "display_name": "Python 3 (ipykernel)",
   "language": "python",
   "name": "python3"
  },
  "language_info": {
   "codemirror_mode": {
    "name": "ipython",
    "version": 3
   },
   "file_extension": ".py",
   "mimetype": "text/x-python",
   "name": "python",
   "nbconvert_exporter": "python",
   "pygments_lexer": "ipython3",
   "version": "3.9.12"
  }
 },
 "nbformat": 4,
 "nbformat_minor": 1
}
