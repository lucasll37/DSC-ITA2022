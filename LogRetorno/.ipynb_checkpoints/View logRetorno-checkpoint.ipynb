{
 "cells": [
  {
   "cell_type": "code",
   "execution_count": 1,
   "id": "c66da277",
   "metadata": {},
   "outputs": [],
   "source": [
    "import pandas as pd"
   ]
  },
  {
   "cell_type": "code",
   "execution_count": 3,
   "id": "15af98cf",
   "metadata": {},
   "outputs": [],
   "source": [
    "logRetorno = pd.read_csv('19-October-07h11min/logRetorno.csv')"
   ]
  },
  {
   "cell_type": "code",
   "execution_count": 5,
   "id": "a640d29c",
   "metadata": {},
   "outputs": [],
   "source": [
    "logRetorno.to_excel('apaga.xlsx')"
   ]
  }
 ],
 "metadata": {
  "kernelspec": {
   "display_name": "Python 3 (ipykernel)",
   "language": "python",
   "name": "python3"
  },
  "language_info": {
   "codemirror_mode": {
    "name": "ipython",
    "version": 3
   },
   "file_extension": ".py",
   "mimetype": "text/x-python",
   "name": "python",
   "nbconvert_exporter": "python",
   "pygments_lexer": "ipython3",
   "version": "3.9.12"
  }
 },
 "nbformat": 4,
 "nbformat_minor": 5
}
