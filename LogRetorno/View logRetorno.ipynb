{
 "cells": [
  {
   "cell_type": "code",
   "execution_count": 1,
   "id": "c66da277",
   "metadata": {},
   "outputs": [],
   "source": [
    "import pandas as pd"
   ]
  },
  {
   "cell_type": "code",
   "execution_count": 3,
   "id": "15af98cf",
   "metadata": {},
   "outputs": [],
   "source": [
    "logRetorno = pd.read_csv('19-October-07h11min/logRetorno.csv')"
   ]
  },
  {
   "cell_type": "code",
<<<<<<< HEAD
   "execution_count": 10,
   "id": "f7ee3568",
   "metadata": {},
   "outputs": [
    {
     "data": {
      "text/plain": [
       "23"
      ]
     },
     "execution_count": 10,
     "metadata": {},
     "output_type": "execute_result"
    }
   ],
   "source": [
    "logRetorno.tail(20).iloc[0].isna().sum()"
=======
   "execution_count": 5,
   "id": "a640d29c",
   "metadata": {},
   "outputs": [],
   "source": [
    "logRetorno.to_excel('apaga.xlsx')"
>>>>>>> 30346e573334cd508e41fbb43a7fe35faf9a4362
   ]
  }
 ],
 "metadata": {
  "kernelspec": {
   "display_name": "Python 3 (ipykernel)",
   "language": "python",
   "name": "python3"
  },
  "language_info": {
   "codemirror_mode": {
    "name": "ipython",
    "version": 3
   },
   "file_extension": ".py",
   "mimetype": "text/x-python",
   "name": "python",
   "nbconvert_exporter": "python",
   "pygments_lexer": "ipython3",
   "version": "3.9.12"
  }
 },
 "nbformat": 4,
 "nbformat_minor": 5
}
