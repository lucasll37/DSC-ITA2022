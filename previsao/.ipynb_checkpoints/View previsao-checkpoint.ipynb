{
 "cells": [
  {
   "cell_type": "code",
   "execution_count": 1,
   "id": "9a45dc8c",
   "metadata": {},
   "outputs": [],
   "source": [
    "import pandas as pd"
   ]
  },
  {
   "cell_type": "code",
   "execution_count": 2,
   "id": "49afb3be",
   "metadata": {},
   "outputs": [],
   "source": [
    "previsao = pd.read_csv('19-October-07h11min/previsao.csv')"
   ]
  },
  {
   "cell_type": "code",
   "execution_count": 21,
   "id": "f0543ddd",
   "metadata": {},
   "outputs": [],
   "source": [
    "previsao.to_excel('apaga.xlsx')"
   ]
  }
 ],
 "metadata": {
  "kernelspec": {
   "display_name": "Python 3 (ipykernel)",
   "language": "python",
   "name": "python3"
  },
  "language_info": {
   "codemirror_mode": {
    "name": "ipython",
    "version": 3
   },
   "file_extension": ".py",
   "mimetype": "text/x-python",
   "name": "python",
   "nbconvert_exporter": "python",
   "pygments_lexer": "ipython3",
   "version": "3.9.12"
  }
 },
 "nbformat": 4,
 "nbformat_minor": 5
}
